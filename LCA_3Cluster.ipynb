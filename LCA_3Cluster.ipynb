{
 "cells": [
  {
   "cell_type": "code",
   "execution_count": 1,
   "metadata": {
    "scrolled": true
   },
   "outputs": [
    {
     "name": "stderr",
     "output_type": "stream",
     "text": [
      "\n",
      "Attaching package: ‘dplyr’\n",
      "\n",
      "The following objects are masked from ‘package:stats’:\n",
      "\n",
      "    filter, lag\n",
      "\n",
      "The following objects are masked from ‘package:base’:\n",
      "\n",
      "    intersect, setdiff, setequal, union\n",
      "\n",
      "\n",
      "Attaching package: ‘matrixStats’\n",
      "\n",
      "The following object is masked from ‘package:dplyr’:\n",
      "\n",
      "    count\n",
      "\n"
     ]
    }
   ],
   "source": [
    "library(\"dplyr\")\n",
    "library(readr)\n",
    "library('ggplot2')\n",
    "library('matrixStats')"
   ]
  },
  {
   "cell_type": "code",
   "execution_count": 25,
   "metadata": {},
   "outputs": [],
   "source": [
    "#install.packages(\"matrixStats\")\n",
    "\n",
    "options(repr.matrix.max.cols=1000, repr.matrix.max.rows=1000)"
   ]
  },
  {
   "cell_type": "code",
   "execution_count": 62,
   "metadata": {
    "scrolled": false
   },
   "outputs": [
    {
     "name": "stderr",
     "output_type": "stream",
     "text": [
      "Parsed with column specification:\n",
      "cols(\n",
      "  .default = col_double()\n",
      ")\n",
      "See spec(...) for full column specifications.\n"
     ]
    },
    {
     "name": "stdout",
     "output_type": "stream",
     "text": [
      "[1] 14748\n",
      "[1] 27\n"
     ]
    },
    {
     "data": {
      "text/html": [
       "<table>\n",
       "<thead><tr><th scope=col>upbringing_poor</th><th scope=col>upbringing_upper</th><th scope=col>age_40</th><th scope=col>age_70</th><th scope=col>criminal_history_NonViolent</th><th scope=col>criminal_history_Violent</th><th scope=col>children_Two</th><th scope=col>occ_artist</th><th scope=col>occ_banker</th><th scope=col>occ_doctor</th><th scope=col>occ_firefighter</th><th scope=col>occ_janitor</th><th scope=col>occ_nurse</th><th scope=col>occ_scientist</th><th scope=col>occ_unemployed</th><th scope=col>health_Diabetic</th><th scope=col>health_MentalHealthIssues</th><th scope=col>health_PhysicallyDisabled</th><th scope=col>race_Asian</th><th scope=col>race_Black</th><th scope=col>race_Hispanic</th><th scope=col>pol_Democrat</th><th scope=col>pol_Republican</th><th scope=col>context</th><th scope=col>severity</th><th scope=col>Resp_Party</th><th scope=col>Answer</th></tr></thead>\n",
       "<tbody>\n",
       "\t<tr><td>1</td><td>0</td><td>0</td><td>0</td><td>1</td><td>0</td><td>1</td><td>0</td><td>0</td><td>0</td><td>0</td><td>0</td><td>0</td><td>0</td><td>0</td><td>0</td><td>1</td><td>0</td><td>0</td><td>1</td><td>0</td><td>1</td><td>0</td><td>1</td><td>0</td><td>1</td><td>1</td></tr>\n",
       "\t<tr><td>1</td><td>0</td><td>0</td><td>1</td><td>1</td><td>0</td><td>0</td><td>0</td><td>0</td><td>0</td><td>0</td><td>0</td><td>0</td><td>0</td><td>0</td><td>1</td><td>0</td><td>0</td><td>0</td><td>0</td><td>0</td><td>1</td><td>0</td><td>1</td><td>0</td><td>1</td><td>0</td></tr>\n",
       "\t<tr><td>0</td><td>0</td><td>0</td><td>1</td><td>1</td><td>0</td><td>0</td><td>0</td><td>0</td><td>0</td><td>0</td><td>0</td><td>0</td><td>0</td><td>1</td><td>0</td><td>0</td><td>0</td><td>0</td><td>0</td><td>1</td><td>0</td><td>0</td><td>1</td><td>0</td><td>1</td><td>0</td></tr>\n",
       "\t<tr><td>0</td><td>1</td><td>1</td><td>0</td><td>0</td><td>0</td><td>0</td><td>0</td><td>0</td><td>0</td><td>0</td><td>0</td><td>0</td><td>0</td><td>1</td><td>1</td><td>0</td><td>0</td><td>0</td><td>1</td><td>0</td><td>1</td><td>0</td><td>1</td><td>0</td><td>1</td><td>1</td></tr>\n",
       "\t<tr><td>1</td><td>0</td><td>1</td><td>0</td><td>1</td><td>0</td><td>1</td><td>0</td><td>0</td><td>0</td><td>0</td><td>1</td><td>0</td><td>0</td><td>0</td><td>0</td><td>1</td><td>0</td><td>1</td><td>0</td><td>0</td><td>0</td><td>1</td><td>1</td><td>0</td><td>1</td><td>0</td></tr>\n",
       "\t<tr><td>0</td><td>0</td><td>0</td><td>0</td><td>0</td><td>1</td><td>0</td><td>1</td><td>0</td><td>0</td><td>0</td><td>0</td><td>0</td><td>0</td><td>0</td><td>1</td><td>0</td><td>0</td><td>0</td><td>0</td><td>1</td><td>1</td><td>0</td><td>1</td><td>0</td><td>1</td><td>1</td></tr>\n",
       "</tbody>\n",
       "</table>\n"
      ],
      "text/latex": [
       "\\begin{tabular}{r|lllllllllllllllllllllllllll}\n",
       " upbringing\\_poor & upbringing\\_upper & age\\_40 & age\\_70 & criminal\\_history\\_NonViolent & criminal\\_history\\_Violent & children\\_Two & occ\\_artist & occ\\_banker & occ\\_doctor & occ\\_firefighter & occ\\_janitor & occ\\_nurse & occ\\_scientist & occ\\_unemployed & health\\_Diabetic & health\\_MentalHealthIssues & health\\_PhysicallyDisabled & race\\_Asian & race\\_Black & race\\_Hispanic & pol\\_Democrat & pol\\_Republican & context & severity & Resp\\_Party & Answer\\\\\n",
       "\\hline\n",
       "\t 1 & 0 & 0 & 0 & 1 & 0 & 1 & 0 & 0 & 0 & 0 & 0 & 0 & 0 & 0 & 0 & 1 & 0 & 0 & 1 & 0 & 1 & 0 & 1 & 0 & 1 & 1\\\\\n",
       "\t 1 & 0 & 0 & 1 & 1 & 0 & 0 & 0 & 0 & 0 & 0 & 0 & 0 & 0 & 0 & 1 & 0 & 0 & 0 & 0 & 0 & 1 & 0 & 1 & 0 & 1 & 0\\\\\n",
       "\t 0 & 0 & 0 & 1 & 1 & 0 & 0 & 0 & 0 & 0 & 0 & 0 & 0 & 0 & 1 & 0 & 0 & 0 & 0 & 0 & 1 & 0 & 0 & 1 & 0 & 1 & 0\\\\\n",
       "\t 0 & 1 & 1 & 0 & 0 & 0 & 0 & 0 & 0 & 0 & 0 & 0 & 0 & 0 & 1 & 1 & 0 & 0 & 0 & 1 & 0 & 1 & 0 & 1 & 0 & 1 & 1\\\\\n",
       "\t 1 & 0 & 1 & 0 & 1 & 0 & 1 & 0 & 0 & 0 & 0 & 1 & 0 & 0 & 0 & 0 & 1 & 0 & 1 & 0 & 0 & 0 & 1 & 1 & 0 & 1 & 0\\\\\n",
       "\t 0 & 0 & 0 & 0 & 0 & 1 & 0 & 1 & 0 & 0 & 0 & 0 & 0 & 0 & 0 & 1 & 0 & 0 & 0 & 0 & 1 & 1 & 0 & 1 & 0 & 1 & 1\\\\\n",
       "\\end{tabular}\n"
      ],
      "text/markdown": [
       "\n",
       "| upbringing_poor | upbringing_upper | age_40 | age_70 | criminal_history_NonViolent | criminal_history_Violent | children_Two | occ_artist | occ_banker | occ_doctor | occ_firefighter | occ_janitor | occ_nurse | occ_scientist | occ_unemployed | health_Diabetic | health_MentalHealthIssues | health_PhysicallyDisabled | race_Asian | race_Black | race_Hispanic | pol_Democrat | pol_Republican | context | severity | Resp_Party | Answer |\n",
       "|---|---|---|---|---|---|---|---|---|---|---|---|---|---|---|---|---|---|---|---|---|---|---|---|---|---|---|\n",
       "| 1 | 0 | 0 | 0 | 1 | 0 | 1 | 0 | 0 | 0 | 0 | 0 | 0 | 0 | 0 | 0 | 1 | 0 | 0 | 1 | 0 | 1 | 0 | 1 | 0 | 1 | 1 |\n",
       "| 1 | 0 | 0 | 1 | 1 | 0 | 0 | 0 | 0 | 0 | 0 | 0 | 0 | 0 | 0 | 1 | 0 | 0 | 0 | 0 | 0 | 1 | 0 | 1 | 0 | 1 | 0 |\n",
       "| 0 | 0 | 0 | 1 | 1 | 0 | 0 | 0 | 0 | 0 | 0 | 0 | 0 | 0 | 1 | 0 | 0 | 0 | 0 | 0 | 1 | 0 | 0 | 1 | 0 | 1 | 0 |\n",
       "| 0 | 1 | 1 | 0 | 0 | 0 | 0 | 0 | 0 | 0 | 0 | 0 | 0 | 0 | 1 | 1 | 0 | 0 | 0 | 1 | 0 | 1 | 0 | 1 | 0 | 1 | 1 |\n",
       "| 1 | 0 | 1 | 0 | 1 | 0 | 1 | 0 | 0 | 0 | 0 | 1 | 0 | 0 | 0 | 0 | 1 | 0 | 1 | 0 | 0 | 0 | 1 | 1 | 0 | 1 | 0 |\n",
       "| 0 | 0 | 0 | 0 | 0 | 1 | 0 | 1 | 0 | 0 | 0 | 0 | 0 | 0 | 0 | 1 | 0 | 0 | 0 | 0 | 1 | 1 | 0 | 1 | 0 | 1 | 1 |\n",
       "\n"
      ],
      "text/plain": [
       "  upbringing_poor upbringing_upper age_40 age_70 criminal_history_NonViolent\n",
       "1 1               0                0      0      1                          \n",
       "2 1               0                0      1      1                          \n",
       "3 0               0                0      1      1                          \n",
       "4 0               1                1      0      0                          \n",
       "5 1               0                1      0      1                          \n",
       "6 0               0                0      0      0                          \n",
       "  criminal_history_Violent children_Two occ_artist occ_banker occ_doctor\n",
       "1 0                        1            0          0          0         \n",
       "2 0                        0            0          0          0         \n",
       "3 0                        0            0          0          0         \n",
       "4 0                        0            0          0          0         \n",
       "5 0                        1            0          0          0         \n",
       "6 1                        0            1          0          0         \n",
       "  occ_firefighter occ_janitor occ_nurse occ_scientist occ_unemployed\n",
       "1 0               0           0         0             0             \n",
       "2 0               0           0         0             0             \n",
       "3 0               0           0         0             1             \n",
       "4 0               0           0         0             1             \n",
       "5 0               1           0         0             0             \n",
       "6 0               0           0         0             0             \n",
       "  health_Diabetic health_MentalHealthIssues health_PhysicallyDisabled\n",
       "1 0               1                         0                        \n",
       "2 1               0                         0                        \n",
       "3 0               0                         0                        \n",
       "4 1               0                         0                        \n",
       "5 0               1                         0                        \n",
       "6 1               0                         0                        \n",
       "  race_Asian race_Black race_Hispanic pol_Democrat pol_Republican context\n",
       "1 0          1          0             1            0              1      \n",
       "2 0          0          0             1            0              1      \n",
       "3 0          0          1             0            0              1      \n",
       "4 0          1          0             1            0              1      \n",
       "5 1          0          0             0            1              1      \n",
       "6 0          0          1             1            0              1      \n",
       "  severity Resp_Party Answer\n",
       "1 0        1          1     \n",
       "2 0        1          0     \n",
       "3 0        1          0     \n",
       "4 0        1          1     \n",
       "5 0        1          0     \n",
       "6 0        1          1     "
      ]
     },
     "metadata": {},
     "output_type": "display_data"
    }
   ],
   "source": [
    "test <- read_csv(\"SurveyData.csv\")\n",
    "print(nrow(test))\n",
    "print(ncol(test))\n",
    "head(test)"
   ]
  },
  {
   "cell_type": "code",
   "execution_count": 64,
   "metadata": {},
   "outputs": [
    {
     "data": {
      "text/html": [
       "<table>\n",
       "<thead><tr><th scope=col>upbringing_poor</th><th scope=col>upbringing_upper</th><th scope=col>age_40</th><th scope=col>age_70</th><th scope=col>criminal_history_NonViolent</th><th scope=col>criminal_history_Violent</th><th scope=col>children_Two</th><th scope=col>occ_artist</th><th scope=col>occ_banker</th><th scope=col>occ_doctor</th><th scope=col>occ_firefighter</th><th scope=col>occ_janitor</th><th scope=col>occ_nurse</th><th scope=col>occ_scientist</th><th scope=col>occ_unemployed</th><th scope=col>health_Diabetic</th><th scope=col>health_MentalHealthIssues</th><th scope=col>health_PhysicallyDisabled</th><th scope=col>race_Asian</th><th scope=col>race_Black</th><th scope=col>race_Hispanic</th><th scope=col>pol_Democrat</th><th scope=col>pol_Republican</th><th scope=col>context</th><th scope=col>severity</th><th scope=col>Resp_Party</th><th scope=col>Saved</th></tr></thead>\n",
       "<tbody>\n",
       "\t<tr><td>1</td><td>0</td><td>0</td><td>0</td><td>1</td><td>0</td><td>1</td><td>0</td><td>0</td><td>0</td><td>0</td><td>0</td><td>0</td><td>0</td><td>0</td><td>0</td><td>1</td><td>0</td><td>0</td><td>1</td><td>0</td><td>1</td><td>0</td><td>1</td><td>0</td><td>1</td><td>1</td></tr>\n",
       "\t<tr><td>1</td><td>0</td><td>0</td><td>1</td><td>1</td><td>0</td><td>0</td><td>0</td><td>0</td><td>0</td><td>0</td><td>0</td><td>0</td><td>0</td><td>0</td><td>1</td><td>0</td><td>0</td><td>0</td><td>0</td><td>0</td><td>1</td><td>0</td><td>1</td><td>0</td><td>1</td><td>0</td></tr>\n",
       "</tbody>\n",
       "</table>\n"
      ],
      "text/latex": [
       "\\begin{tabular}{r|lllllllllllllllllllllllllll}\n",
       " upbringing\\_poor & upbringing\\_upper & age\\_40 & age\\_70 & criminal\\_history\\_NonViolent & criminal\\_history\\_Violent & children\\_Two & occ\\_artist & occ\\_banker & occ\\_doctor & occ\\_firefighter & occ\\_janitor & occ\\_nurse & occ\\_scientist & occ\\_unemployed & health\\_Diabetic & health\\_MentalHealthIssues & health\\_PhysicallyDisabled & race\\_Asian & race\\_Black & race\\_Hispanic & pol\\_Democrat & pol\\_Republican & context & severity & Resp\\_Party & Saved\\\\\n",
       "\\hline\n",
       "\t 1 & 0 & 0 & 0 & 1 & 0 & 1 & 0 & 0 & 0 & 0 & 0 & 0 & 0 & 0 & 0 & 1 & 0 & 0 & 1 & 0 & 1 & 0 & 1 & 0 & 1 & 1\\\\\n",
       "\t 1 & 0 & 0 & 1 & 1 & 0 & 0 & 0 & 0 & 0 & 0 & 0 & 0 & 0 & 0 & 1 & 0 & 0 & 0 & 0 & 0 & 1 & 0 & 1 & 0 & 1 & 0\\\\\n",
       "\\end{tabular}\n"
      ],
      "text/markdown": [
       "\n",
       "| upbringing_poor | upbringing_upper | age_40 | age_70 | criminal_history_NonViolent | criminal_history_Violent | children_Two | occ_artist | occ_banker | occ_doctor | occ_firefighter | occ_janitor | occ_nurse | occ_scientist | occ_unemployed | health_Diabetic | health_MentalHealthIssues | health_PhysicallyDisabled | race_Asian | race_Black | race_Hispanic | pol_Democrat | pol_Republican | context | severity | Resp_Party | Saved |\n",
       "|---|---|---|---|---|---|---|---|---|---|---|---|---|---|---|---|---|---|---|---|---|---|---|---|---|---|---|\n",
       "| 1 | 0 | 0 | 0 | 1 | 0 | 1 | 0 | 0 | 0 | 0 | 0 | 0 | 0 | 0 | 0 | 1 | 0 | 0 | 1 | 0 | 1 | 0 | 1 | 0 | 1 | 1 |\n",
       "| 1 | 0 | 0 | 1 | 1 | 0 | 0 | 0 | 0 | 0 | 0 | 0 | 0 | 0 | 0 | 1 | 0 | 0 | 0 | 0 | 0 | 1 | 0 | 1 | 0 | 1 | 0 |\n",
       "\n"
      ],
      "text/plain": [
       "  upbringing_poor upbringing_upper age_40 age_70 criminal_history_NonViolent\n",
       "1 1               0                0      0      1                          \n",
       "2 1               0                0      1      1                          \n",
       "  criminal_history_Violent children_Two occ_artist occ_banker occ_doctor\n",
       "1 0                        1            0          0          0         \n",
       "2 0                        0            0          0          0         \n",
       "  occ_firefighter occ_janitor occ_nurse occ_scientist occ_unemployed\n",
       "1 0               0           0         0             0             \n",
       "2 0               0           0         0             0             \n",
       "  health_Diabetic health_MentalHealthIssues health_PhysicallyDisabled\n",
       "1 0               1                         0                        \n",
       "2 1               0                         0                        \n",
       "  race_Asian race_Black race_Hispanic pol_Democrat pol_Republican context\n",
       "1 0          1          0             1            0              1      \n",
       "2 0          0          0             1            0              1      \n",
       "  severity Resp_Party Saved\n",
       "1 0        1          1    \n",
       "2 0        1          0    "
      ]
     },
     "metadata": {},
     "output_type": "display_data"
    }
   ],
   "source": [
    "test2cov <- na.omit(test)\n",
    "MMRdata_subset<-test2cov\n",
    "\n",
    "names(MMRdata_subset)[27] <- \"Saved\"\n",
    "head(MMRdata_subset,2)\n"
   ]
  },
  {
   "cell_type": "code",
   "execution_count": 65,
   "metadata": {},
   "outputs": [],
   "source": [
    "##### Initial ####\n",
    "dataset.rows <- nrow(MMRdata_subset) \n",
    "n <- 3\n",
    "set.seed(44)\n",
    "\n",
    "no.of.attr <- 23\n",
    "no.of.cov <- 3\n",
    "\n",
    "startindex.cov <- no.of.attr+1\n",
    "total.no.var <- no.of.attr+no.of.cov\n",
    "\n",
    "levels.of.attr <- 2\n",
    "\n",
    "\n",
    "rand_init <- as.data.frame(matrix(runif(dataset.rows*n, min=0.1,max=0.9), ncol = n))"
   ]
  },
  {
   "cell_type": "code",
   "execution_count": 66,
   "metadata": {},
   "outputs": [
    {
     "data": {
      "text/html": [
       "<table>\n",
       "<thead><tr><th scope=col>upbringing_poor</th><th scope=col>upbringing_upper</th><th scope=col>age_40</th><th scope=col>age_70</th><th scope=col>criminal_history_NonViolent</th><th scope=col>criminal_history_Violent</th><th scope=col>children_Two</th><th scope=col>occ_artist</th><th scope=col>occ_banker</th><th scope=col>occ_doctor</th><th scope=col>occ_firefighter</th><th scope=col>occ_janitor</th><th scope=col>occ_nurse</th><th scope=col>occ_scientist</th><th scope=col>occ_unemployed</th><th scope=col>health_Diabetic</th><th scope=col>health_MentalHealthIssues</th><th scope=col>health_PhysicallyDisabled</th><th scope=col>race_Asian</th><th scope=col>race_Black</th><th scope=col>race_Hispanic</th><th scope=col>pol_Democrat</th><th scope=col>pol_Republican</th><th scope=col>context</th><th scope=col>severity</th><th scope=col>Resp_Party</th><th scope=col>Saved</th><th scope=col>classcond_prb1</th><th scope=col>classcond_prb2</th><th scope=col>classcond_prb3</th></tr></thead>\n",
       "<tbody>\n",
       "\t<tr><td>1        </td><td>0        </td><td>0        </td><td>0        </td><td>1        </td><td>0        </td><td>1        </td><td>0        </td><td>0        </td><td>0        </td><td>0        </td><td>0        </td><td>0        </td><td>0        </td><td>0        </td><td>0        </td><td>1        </td><td>0        </td><td>0        </td><td>1        </td><td>0        </td><td>1        </td><td>0        </td><td>1        </td><td>0        </td><td>1        </td><td>1        </td><td>0.4656994</td><td>0.2318837</td><td>0.3024169</td></tr>\n",
       "\t<tr><td>1        </td><td>0        </td><td>0        </td><td>1        </td><td>1        </td><td>0        </td><td>0        </td><td>0        </td><td>0        </td><td>0        </td><td>0        </td><td>0        </td><td>0        </td><td>0        </td><td>0        </td><td>1        </td><td>0        </td><td>0        </td><td>0        </td><td>0        </td><td>0        </td><td>1        </td><td>0        </td><td>1        </td><td>0        </td><td>1        </td><td>0        </td><td>0.5144471</td><td>0.2479330</td><td>0.2376200</td></tr>\n",
       "</tbody>\n",
       "</table>\n"
      ],
      "text/latex": [
       "\\begin{tabular}{r|llllllllllllllllllllllllllllll}\n",
       " upbringing\\_poor & upbringing\\_upper & age\\_40 & age\\_70 & criminal\\_history\\_NonViolent & criminal\\_history\\_Violent & children\\_Two & occ\\_artist & occ\\_banker & occ\\_doctor & occ\\_firefighter & occ\\_janitor & occ\\_nurse & occ\\_scientist & occ\\_unemployed & health\\_Diabetic & health\\_MentalHealthIssues & health\\_PhysicallyDisabled & race\\_Asian & race\\_Black & race\\_Hispanic & pol\\_Democrat & pol\\_Republican & context & severity & Resp\\_Party & Saved & classcond\\_prb1 & classcond\\_prb2 & classcond\\_prb3\\\\\n",
       "\\hline\n",
       "\t 1         & 0         & 0         & 0         & 1         & 0         & 1         & 0         & 0         & 0         & 0         & 0         & 0         & 0         & 0         & 0         & 1         & 0         & 0         & 1         & 0         & 1         & 0         & 1         & 0         & 1         & 1         & 0.4656994 & 0.2318837 & 0.3024169\\\\\n",
       "\t 1         & 0         & 0         & 1         & 1         & 0         & 0         & 0         & 0         & 0         & 0         & 0         & 0         & 0         & 0         & 1         & 0         & 0         & 0         & 0         & 0         & 1         & 0         & 1         & 0         & 1         & 0         & 0.5144471 & 0.2479330 & 0.2376200\\\\\n",
       "\\end{tabular}\n"
      ],
      "text/markdown": [
       "\n",
       "| upbringing_poor | upbringing_upper | age_40 | age_70 | criminal_history_NonViolent | criminal_history_Violent | children_Two | occ_artist | occ_banker | occ_doctor | occ_firefighter | occ_janitor | occ_nurse | occ_scientist | occ_unemployed | health_Diabetic | health_MentalHealthIssues | health_PhysicallyDisabled | race_Asian | race_Black | race_Hispanic | pol_Democrat | pol_Republican | context | severity | Resp_Party | Saved | classcond_prb1 | classcond_prb2 | classcond_prb3 |\n",
       "|---|---|---|---|---|---|---|---|---|---|---|---|---|---|---|---|---|---|---|---|---|---|---|---|---|---|---|---|---|---|\n",
       "| 1         | 0         | 0         | 0         | 1         | 0         | 1         | 0         | 0         | 0         | 0         | 0         | 0         | 0         | 0         | 0         | 1         | 0         | 0         | 1         | 0         | 1         | 0         | 1         | 0         | 1         | 1         | 0.4656994 | 0.2318837 | 0.3024169 |\n",
       "| 1         | 0         | 0         | 1         | 1         | 0         | 0         | 0         | 0         | 0         | 0         | 0         | 0         | 0         | 0         | 1         | 0         | 0         | 0         | 0         | 0         | 1         | 0         | 1         | 0         | 1         | 0         | 0.5144471 | 0.2479330 | 0.2376200 |\n",
       "\n"
      ],
      "text/plain": [
       "  upbringing_poor upbringing_upper age_40 age_70 criminal_history_NonViolent\n",
       "1 1               0                0      0      1                          \n",
       "2 1               0                0      1      1                          \n",
       "  criminal_history_Violent children_Two occ_artist occ_banker occ_doctor\n",
       "1 0                        1            0          0          0         \n",
       "2 0                        0            0          0          0         \n",
       "  occ_firefighter occ_janitor occ_nurse occ_scientist occ_unemployed\n",
       "1 0               0           0         0             0             \n",
       "2 0               0           0         0             0             \n",
       "  health_Diabetic health_MentalHealthIssues health_PhysicallyDisabled\n",
       "1 0               1                         0                        \n",
       "2 1               0                         0                        \n",
       "  race_Asian race_Black race_Hispanic pol_Democrat pol_Republican context\n",
       "1 0          1          0             1            0              1      \n",
       "2 0          0          0             1            0              1      \n",
       "  severity Resp_Party Saved classcond_prb1 classcond_prb2 classcond_prb3\n",
       "1 0        1          1     0.4656994      0.2318837      0.3024169     \n",
       "2 0        1          0     0.5144471      0.2479330      0.2376200     "
      ]
     },
     "metadata": {},
     "output_type": "display_data"
    }
   ],
   "source": [
    "# CONDITIONAL CLASS PROB\n",
    "den <- rowSums(rand_init)\n",
    "for(i in 1:n){\n",
    "  rand_init[i] <- rand_init[i]/ den\n",
    "  MMRdata_subset[, ncol(MMRdata_subset)+1] <- rand_init[i]\n",
    "  colnames(MMRdata_subset)[ncol(MMRdata_subset)] <- paste0(\"classcond_prb\",i)\n",
    "}\n",
    "\n",
    "\n",
    "\n",
    "\n",
    "head(MMRdata_subset,2)"
   ]
  },
  {
   "cell_type": "code",
   "execution_count": 67,
   "metadata": {},
   "outputs": [],
   "source": [
    "# Cluster Initialization for faster convergence\n",
    "\n",
    "w1 <-runif(round(0.8* length(which(MMRdata_subset$context == 1 & MMRdata_subset$severity == 1))), min = 0.7, max = 0.95)\n",
    "w2 <-runif(round(0.8* length(which(MMRdata_subset$context == 0 & MMRdata_subset$severity == 1))), min = 0.7, max = 0.95)\n",
    "w3 <-runif(round(0.8* length(which(MMRdata_subset$context == 1 & MMRdata_subset$severity == 0))), min = 0.7, max = 0.95)\n",
    "w4 <-runif(round(0.8* length(which(MMRdata_subset$context == 1 & MMRdata_subset$severity == 1))), min = 0.7, max = 0.95)"
   ]
  },
  {
   "cell_type": "code",
   "execution_count": 68,
   "metadata": {},
   "outputs": [],
   "source": [
    "\n",
    "MMRdata_subset[sample(which(MMRdata_subset$context == 1 & MMRdata_subset$severity == 1),\n",
    "              round(0.8* length(which(MMRdata_subset$context == 1 & MMRdata_subset$severity == 1)))), \n",
    "              \"classcond_prb1\"] <- w1\n",
    "MMRdata_subset[sample(which(MMRdata_subset$context == 0 & MMRdata_subset$severity == 1),\n",
    "              round(0.8* length(which(MMRdata_subset$context == 0 & MMRdata_subset$severity == 1)))), \n",
    "              \"classcond_prb2\"] <- w2\n",
    "MMRdata_subset[sample(which(MMRdata_subset$context == 1 & MMRdata_subset$severity == 0),\n",
    "              round(0.8* length(which(MMRdata_subset$context == 1 & MMRdata_subset$severity == 0)))), \n",
    "              \"classcond_prb2\"] <- w3\n",
    "MMRdata_subset[sample(which(MMRdata_subset$context == 1 & MMRdata_subset$severity == 1),\n",
    "              round(0.8* length(which(MMRdata_subset$context == 1 & MMRdata_subset$severity == 1)))), \n",
    "              \"classcond_prb3\"] <- w4\n"
   ]
  },
  {
   "cell_type": "code",
   "execution_count": 70,
   "metadata": {},
   "outputs": [],
   "source": [
    "clsden<- rowSums(MMRdata_subset[(total.no.var+2) : (total.no.var+1+n)])\n",
    "MMRdata_subset$classcond_prb1 <- MMRdata_subset$classcond_prb1/clsden\n",
    "MMRdata_subset$classcond_prb2 <- MMRdata_subset$classcond_prb2/clsden\n",
    "MMRdata_subset$classcond_prb3 <- MMRdata_subset$classcond_prb3/clsden\n"
   ]
  },
  {
   "cell_type": "code",
   "execution_count": 71,
   "metadata": {},
   "outputs": [
    {
     "name": "stdout",
     "output_type": "stream",
     "text": [
      "[1] 1 1\n"
     ]
    }
   ],
   "source": [
    "# Check if sum of assigned class conditional probablities sum up to 1\n",
    "check <- rowSums(MMRdata_subset[(total.no.var+2) : (total.no.var+1+n)])\n",
    "print(range(check))"
   ]
  },
  {
   "cell_type": "code",
   "execution_count": 72,
   "metadata": {},
   "outputs": [
    {
     "data": {
      "text/html": [
       "<table>\n",
       "<thead><tr><th scope=col>upbringing_poor</th><th scope=col>upbringing_upper</th><th scope=col>age_40</th><th scope=col>age_70</th><th scope=col>criminal_history_NonViolent</th><th scope=col>criminal_history_Violent</th><th scope=col>children_Two</th><th scope=col>occ_artist</th><th scope=col>occ_banker</th><th scope=col>occ_doctor</th><th scope=col>occ_firefighter</th><th scope=col>occ_janitor</th><th scope=col>occ_nurse</th><th scope=col>occ_scientist</th><th scope=col>occ_unemployed</th><th scope=col>health_Diabetic</th><th scope=col>health_MentalHealthIssues</th><th scope=col>health_PhysicallyDisabled</th><th scope=col>race_Asian</th><th scope=col>race_Black</th><th scope=col>race_Hispanic</th><th scope=col>pol_Democrat</th><th scope=col>pol_Republican</th><th scope=col>context</th><th scope=col>severity</th><th scope=col>Resp_Party</th><th scope=col>Saved</th><th scope=col>classcond_prb1</th><th scope=col>classcond_prb2</th><th scope=col>classcond_prb3</th><th scope=col>uncond_prb1</th><th scope=col>uncond_prb2</th><th scope=col>uncond_prb3</th></tr></thead>\n",
       "<tbody>\n",
       "\t<tr><td>1        </td><td>0        </td><td>0        </td><td>0        </td><td>1        </td><td>0        </td><td>1        </td><td>0        </td><td>0        </td><td>0        </td><td>0        </td><td>0        </td><td>0        </td><td>0        </td><td>0        </td><td>0        </td><td>1        </td><td>0        </td><td>0        </td><td>1        </td><td>0        </td><td>1        </td><td>0        </td><td>1        </td><td>0        </td><td>1        </td><td>1        </td><td>0.3045506</td><td>0.4976797</td><td>0.1977697</td><td>1        </td><td>1        </td><td>1        </td></tr>\n",
       "\t<tr><td>1        </td><td>0        </td><td>0        </td><td>1        </td><td>1        </td><td>0        </td><td>0        </td><td>0        </td><td>0        </td><td>0        </td><td>0        </td><td>0        </td><td>0        </td><td>0        </td><td>0        </td><td>1        </td><td>0        </td><td>0        </td><td>0        </td><td>0        </td><td>0        </td><td>1        </td><td>0        </td><td>1        </td><td>0        </td><td>1        </td><td>0        </td><td>0.5144471</td><td>0.2479330</td><td>0.2376200</td><td>1        </td><td>1        </td><td>1        </td></tr>\n",
       "</tbody>\n",
       "</table>\n"
      ],
      "text/latex": [
       "\\begin{tabular}{r|lllllllllllllllllllllllllllllllll}\n",
       " upbringing\\_poor & upbringing\\_upper & age\\_40 & age\\_70 & criminal\\_history\\_NonViolent & criminal\\_history\\_Violent & children\\_Two & occ\\_artist & occ\\_banker & occ\\_doctor & occ\\_firefighter & occ\\_janitor & occ\\_nurse & occ\\_scientist & occ\\_unemployed & health\\_Diabetic & health\\_MentalHealthIssues & health\\_PhysicallyDisabled & race\\_Asian & race\\_Black & race\\_Hispanic & pol\\_Democrat & pol\\_Republican & context & severity & Resp\\_Party & Saved & classcond\\_prb1 & classcond\\_prb2 & classcond\\_prb3 & uncond\\_prb1 & uncond\\_prb2 & uncond\\_prb3\\\\\n",
       "\\hline\n",
       "\t 1         & 0         & 0         & 0         & 1         & 0         & 1         & 0         & 0         & 0         & 0         & 0         & 0         & 0         & 0         & 0         & 1         & 0         & 0         & 1         & 0         & 1         & 0         & 1         & 0         & 1         & 1         & 0.3045506 & 0.4976797 & 0.1977697 & 1         & 1         & 1        \\\\\n",
       "\t 1         & 0         & 0         & 1         & 1         & 0         & 0         & 0         & 0         & 0         & 0         & 0         & 0         & 0         & 0         & 1         & 0         & 0         & 0         & 0         & 0         & 1         & 0         & 1         & 0         & 1         & 0         & 0.5144471 & 0.2479330 & 0.2376200 & 1         & 1         & 1        \\\\\n",
       "\\end{tabular}\n"
      ],
      "text/markdown": [
       "\n",
       "| upbringing_poor | upbringing_upper | age_40 | age_70 | criminal_history_NonViolent | criminal_history_Violent | children_Two | occ_artist | occ_banker | occ_doctor | occ_firefighter | occ_janitor | occ_nurse | occ_scientist | occ_unemployed | health_Diabetic | health_MentalHealthIssues | health_PhysicallyDisabled | race_Asian | race_Black | race_Hispanic | pol_Democrat | pol_Republican | context | severity | Resp_Party | Saved | classcond_prb1 | classcond_prb2 | classcond_prb3 | uncond_prb1 | uncond_prb2 | uncond_prb3 |\n",
       "|---|---|---|---|---|---|---|---|---|---|---|---|---|---|---|---|---|---|---|---|---|---|---|---|---|---|---|---|---|---|---|---|---|\n",
       "| 1         | 0         | 0         | 0         | 1         | 0         | 1         | 0         | 0         | 0         | 0         | 0         | 0         | 0         | 0         | 0         | 1         | 0         | 0         | 1         | 0         | 1         | 0         | 1         | 0         | 1         | 1         | 0.3045506 | 0.4976797 | 0.1977697 | 1         | 1         | 1         |\n",
       "| 1         | 0         | 0         | 1         | 1         | 0         | 0         | 0         | 0         | 0         | 0         | 0         | 0         | 0         | 0         | 1         | 0         | 0         | 0         | 0         | 0         | 1         | 0         | 1         | 0         | 1         | 0         | 0.5144471 | 0.2479330 | 0.2376200 | 1         | 1         | 1         |\n",
       "\n"
      ],
      "text/plain": [
       "  upbringing_poor upbringing_upper age_40 age_70 criminal_history_NonViolent\n",
       "1 1               0                0      0      1                          \n",
       "2 1               0                0      1      1                          \n",
       "  criminal_history_Violent children_Two occ_artist occ_banker occ_doctor\n",
       "1 0                        1            0          0          0         \n",
       "2 0                        0            0          0          0         \n",
       "  occ_firefighter occ_janitor occ_nurse occ_scientist occ_unemployed\n",
       "1 0               0           0         0             0             \n",
       "2 0               0           0         0             0             \n",
       "  health_Diabetic health_MentalHealthIssues health_PhysicallyDisabled\n",
       "1 0               1                         0                        \n",
       "2 1               0                         0                        \n",
       "  race_Asian race_Black race_Hispanic pol_Democrat pol_Republican context\n",
       "1 0          1          0             1            0              1      \n",
       "2 0          0          0             1            0              1      \n",
       "  severity Resp_Party Saved classcond_prb1 classcond_prb2 classcond_prb3\n",
       "1 0        1          1     0.3045506      0.4976797      0.1977697     \n",
       "2 0        1          0     0.5144471      0.2479330      0.2376200     \n",
       "  uncond_prb1 uncond_prb2 uncond_prb3\n",
       "1 1           1           1          \n",
       "2 1           1           1          "
      ]
     },
     "metadata": {},
     "output_type": "display_data"
    }
   ],
   "source": [
    "# Add columns to record Unconditional Probability\n",
    "for(i in 1:n){\n",
    "  init<- rep(1, dataset.rows)\n",
    "  MMRdata_subset[, ncol(MMRdata_subset)+1] <- init\n",
    "  colnames(MMRdata_subset)[ncol(MMRdata_subset)] <- paste0(\"uncond_prb\",i)\n",
    "}\n",
    "\n",
    "\n",
    "head(MMRdata_subset,2)"
   ]
  },
  {
   "cell_type": "code",
   "execution_count": 73,
   "metadata": {},
   "outputs": [
    {
     "data": {
      "text/html": [
       "<ol class=list-inline>\n",
       "\t<li>'upbringing_poor'</li>\n",
       "\t<li>'upbringing_upper'</li>\n",
       "\t<li>'age_40'</li>\n",
       "\t<li>'age_70'</li>\n",
       "\t<li>'criminal_history_NonViolent'</li>\n",
       "\t<li>'criminal_history_Violent'</li>\n",
       "\t<li>'children_Two'</li>\n",
       "\t<li>'occ_artist'</li>\n",
       "\t<li>'occ_banker'</li>\n",
       "\t<li>'occ_doctor'</li>\n",
       "\t<li>'occ_firefighter'</li>\n",
       "\t<li>'occ_janitor'</li>\n",
       "\t<li>'occ_nurse'</li>\n",
       "\t<li>'occ_scientist'</li>\n",
       "\t<li>'occ_unemployed'</li>\n",
       "\t<li>'health_Diabetic'</li>\n",
       "\t<li>'health_MentalHealthIssues'</li>\n",
       "\t<li>'health_PhysicallyDisabled'</li>\n",
       "\t<li>'race_Asian'</li>\n",
       "\t<li>'race_Black'</li>\n",
       "\t<li>'race_Hispanic'</li>\n",
       "\t<li>'pol_Democrat'</li>\n",
       "\t<li>'pol_Republican'</li>\n",
       "</ol>\n"
      ],
      "text/latex": [
       "\\begin{enumerate*}\n",
       "\\item 'upbringing\\_poor'\n",
       "\\item 'upbringing\\_upper'\n",
       "\\item 'age\\_40'\n",
       "\\item 'age\\_70'\n",
       "\\item 'criminal\\_history\\_NonViolent'\n",
       "\\item 'criminal\\_history\\_Violent'\n",
       "\\item 'children\\_Two'\n",
       "\\item 'occ\\_artist'\n",
       "\\item 'occ\\_banker'\n",
       "\\item 'occ\\_doctor'\n",
       "\\item 'occ\\_firefighter'\n",
       "\\item 'occ\\_janitor'\n",
       "\\item 'occ\\_nurse'\n",
       "\\item 'occ\\_scientist'\n",
       "\\item 'occ\\_unemployed'\n",
       "\\item 'health\\_Diabetic'\n",
       "\\item 'health\\_MentalHealthIssues'\n",
       "\\item 'health\\_PhysicallyDisabled'\n",
       "\\item 'race\\_Asian'\n",
       "\\item 'race\\_Black'\n",
       "\\item 'race\\_Hispanic'\n",
       "\\item 'pol\\_Democrat'\n",
       "\\item 'pol\\_Republican'\n",
       "\\end{enumerate*}\n"
      ],
      "text/markdown": [
       "1. 'upbringing_poor'\n",
       "2. 'upbringing_upper'\n",
       "3. 'age_40'\n",
       "4. 'age_70'\n",
       "5. 'criminal_history_NonViolent'\n",
       "6. 'criminal_history_Violent'\n",
       "7. 'children_Two'\n",
       "8. 'occ_artist'\n",
       "9. 'occ_banker'\n",
       "10. 'occ_doctor'\n",
       "11. 'occ_firefighter'\n",
       "12. 'occ_janitor'\n",
       "13. 'occ_nurse'\n",
       "14. 'occ_scientist'\n",
       "15. 'occ_unemployed'\n",
       "16. 'health_Diabetic'\n",
       "17. 'health_MentalHealthIssues'\n",
       "18. 'health_PhysicallyDisabled'\n",
       "19. 'race_Asian'\n",
       "20. 'race_Black'\n",
       "21. 'race_Hispanic'\n",
       "22. 'pol_Democrat'\n",
       "23. 'pol_Republican'\n",
       "\n",
       "\n"
      ],
      "text/plain": [
       " [1] \"upbringing_poor\"             \"upbringing_upper\"           \n",
       " [3] \"age_40\"                      \"age_70\"                     \n",
       " [5] \"criminal_history_NonViolent\" \"criminal_history_Violent\"   \n",
       " [7] \"children_Two\"                \"occ_artist\"                 \n",
       " [9] \"occ_banker\"                  \"occ_doctor\"                 \n",
       "[11] \"occ_firefighter\"             \"occ_janitor\"                \n",
       "[13] \"occ_nurse\"                   \"occ_scientist\"              \n",
       "[15] \"occ_unemployed\"              \"health_Diabetic\"            \n",
       "[17] \"health_MentalHealthIssues\"   \"health_PhysicallyDisabled\"  \n",
       "[19] \"race_Asian\"                  \"race_Black\"                 \n",
       "[21] \"race_Hispanic\"               \"pol_Democrat\"               \n",
       "[23] \"pol_Republican\"             "
      ]
     },
     "metadata": {},
     "output_type": "display_data"
    }
   ],
   "source": [
    "# Display column names\n",
    "colnames(MMRdata_subset[1:(no.of.attr)])"
   ]
  },
  {
   "cell_type": "code",
   "execution_count": 74,
   "metadata": {},
   "outputs": [],
   "source": [
    "# Columns considered for regression\n",
    "attrs<- colnames(MMRdata_subset[1:(no.of.attr)])\n",
    "LR.formula <- formula(paste(\"Saved ~ \", paste(attrs, collapse = \"+\")))\n",
    "\n",
    "params <- as.data.frame(matrix(nrow = no.of.attr+1, ncol = n))\n",
    "Vni<- as.data.frame(matrix(nrow=dataset.rows ,ncol = n))\n",
    "Pni<- as.data.frame(matrix(nrow=dataset.rows ,ncol = n))\n",
    "\n",
    "num <- as.data.frame(matrix(nrow=dataset.rows ,ncol = n))\n",
    "clsprob<-as.data.frame(matrix(nrow=dataset.rows ,ncol = n))\n",
    "\n",
    "iter<- 0\n",
    "loglike <- 0\n",
    "\n",
    "# Add columns to record Choice Probability\n",
    "for(i in 1:n){\n",
    "  MMRdata_subset[, ncol(MMRdata_subset)+1] <- rep(0,dataset.rows)\n",
    "  colnames(MMRdata_subset)[ncol(MMRdata_subset)] <- paste0(\"choice_prb\",i)\n",
    "}"
   ]
  },
  {
   "cell_type": "code",
   "execution_count": 76,
   "metadata": {},
   "outputs": [
    {
     "data": {
      "text/html": [
       "<ol class=list-inline>\n",
       "\t<li>'upbringing_poor'</li>\n",
       "\t<li>'upbringing_upper'</li>\n",
       "\t<li>'age_40'</li>\n",
       "\t<li>'age_70'</li>\n",
       "\t<li>'criminal_history_NonViolent'</li>\n",
       "\t<li>'criminal_history_Violent'</li>\n",
       "\t<li>'children_Two'</li>\n",
       "\t<li>'occ_artist'</li>\n",
       "\t<li>'occ_banker'</li>\n",
       "\t<li>'occ_doctor'</li>\n",
       "\t<li>'occ_firefighter'</li>\n",
       "\t<li>'occ_janitor'</li>\n",
       "\t<li>'occ_nurse'</li>\n",
       "\t<li>'occ_scientist'</li>\n",
       "\t<li>'occ_unemployed'</li>\n",
       "\t<li>'health_Diabetic'</li>\n",
       "\t<li>'health_MentalHealthIssues'</li>\n",
       "\t<li>'health_PhysicallyDisabled'</li>\n",
       "\t<li>'race_Asian'</li>\n",
       "\t<li>'race_Black'</li>\n",
       "\t<li>'race_Hispanic'</li>\n",
       "\t<li>'pol_Democrat'</li>\n",
       "\t<li>'pol_Republican'</li>\n",
       "\t<li>'context'</li>\n",
       "\t<li>'severity'</li>\n",
       "\t<li>'Resp_Party'</li>\n",
       "\t<li>'Saved'</li>\n",
       "\t<li>'classcond_prb1'</li>\n",
       "\t<li>'classcond_prb2'</li>\n",
       "\t<li>'classcond_prb3'</li>\n",
       "\t<li>'uncond_prb1'</li>\n",
       "\t<li>'uncond_prb2'</li>\n",
       "\t<li>'uncond_prb3'</li>\n",
       "\t<li>'choice_prb1'</li>\n",
       "\t<li>'choice_prb2'</li>\n",
       "\t<li>'choice_prb3'</li>\n",
       "</ol>\n"
      ],
      "text/latex": [
       "\\begin{enumerate*}\n",
       "\\item 'upbringing\\_poor'\n",
       "\\item 'upbringing\\_upper'\n",
       "\\item 'age\\_40'\n",
       "\\item 'age\\_70'\n",
       "\\item 'criminal\\_history\\_NonViolent'\n",
       "\\item 'criminal\\_history\\_Violent'\n",
       "\\item 'children\\_Two'\n",
       "\\item 'occ\\_artist'\n",
       "\\item 'occ\\_banker'\n",
       "\\item 'occ\\_doctor'\n",
       "\\item 'occ\\_firefighter'\n",
       "\\item 'occ\\_janitor'\n",
       "\\item 'occ\\_nurse'\n",
       "\\item 'occ\\_scientist'\n",
       "\\item 'occ\\_unemployed'\n",
       "\\item 'health\\_Diabetic'\n",
       "\\item 'health\\_MentalHealthIssues'\n",
       "\\item 'health\\_PhysicallyDisabled'\n",
       "\\item 'race\\_Asian'\n",
       "\\item 'race\\_Black'\n",
       "\\item 'race\\_Hispanic'\n",
       "\\item 'pol\\_Democrat'\n",
       "\\item 'pol\\_Republican'\n",
       "\\item 'context'\n",
       "\\item 'severity'\n",
       "\\item 'Resp\\_Party'\n",
       "\\item 'Saved'\n",
       "\\item 'classcond\\_prb1'\n",
       "\\item 'classcond\\_prb2'\n",
       "\\item 'classcond\\_prb3'\n",
       "\\item 'uncond\\_prb1'\n",
       "\\item 'uncond\\_prb2'\n",
       "\\item 'uncond\\_prb3'\n",
       "\\item 'choice\\_prb1'\n",
       "\\item 'choice\\_prb2'\n",
       "\\item 'choice\\_prb3'\n",
       "\\end{enumerate*}\n"
      ],
      "text/markdown": [
       "1. 'upbringing_poor'\n",
       "2. 'upbringing_upper'\n",
       "3. 'age_40'\n",
       "4. 'age_70'\n",
       "5. 'criminal_history_NonViolent'\n",
       "6. 'criminal_history_Violent'\n",
       "7. 'children_Two'\n",
       "8. 'occ_artist'\n",
       "9. 'occ_banker'\n",
       "10. 'occ_doctor'\n",
       "11. 'occ_firefighter'\n",
       "12. 'occ_janitor'\n",
       "13. 'occ_nurse'\n",
       "14. 'occ_scientist'\n",
       "15. 'occ_unemployed'\n",
       "16. 'health_Diabetic'\n",
       "17. 'health_MentalHealthIssues'\n",
       "18. 'health_PhysicallyDisabled'\n",
       "19. 'race_Asian'\n",
       "20. 'race_Black'\n",
       "21. 'race_Hispanic'\n",
       "22. 'pol_Democrat'\n",
       "23. 'pol_Republican'\n",
       "24. 'context'\n",
       "25. 'severity'\n",
       "26. 'Resp_Party'\n",
       "27. 'Saved'\n",
       "28. 'classcond_prb1'\n",
       "29. 'classcond_prb2'\n",
       "30. 'classcond_prb3'\n",
       "31. 'uncond_prb1'\n",
       "32. 'uncond_prb2'\n",
       "33. 'uncond_prb3'\n",
       "34. 'choice_prb1'\n",
       "35. 'choice_prb2'\n",
       "36. 'choice_prb3'\n",
       "\n",
       "\n"
      ],
      "text/plain": [
       " [1] \"upbringing_poor\"             \"upbringing_upper\"           \n",
       " [3] \"age_40\"                      \"age_70\"                     \n",
       " [5] \"criminal_history_NonViolent\" \"criminal_history_Violent\"   \n",
       " [7] \"children_Two\"                \"occ_artist\"                 \n",
       " [9] \"occ_banker\"                  \"occ_doctor\"                 \n",
       "[11] \"occ_firefighter\"             \"occ_janitor\"                \n",
       "[13] \"occ_nurse\"                   \"occ_scientist\"              \n",
       "[15] \"occ_unemployed\"              \"health_Diabetic\"            \n",
       "[17] \"health_MentalHealthIssues\"   \"health_PhysicallyDisabled\"  \n",
       "[19] \"race_Asian\"                  \"race_Black\"                 \n",
       "[21] \"race_Hispanic\"               \"pol_Democrat\"               \n",
       "[23] \"pol_Republican\"              \"context\"                    \n",
       "[25] \"severity\"                    \"Resp_Party\"                 \n",
       "[27] \"Saved\"                       \"classcond_prb1\"             \n",
       "[29] \"classcond_prb2\"              \"classcond_prb3\"             \n",
       "[31] \"uncond_prb1\"                 \"uncond_prb2\"                \n",
       "[33] \"uncond_prb3\"                 \"choice_prb1\"                \n",
       "[35] \"choice_prb2\"                 \"choice_prb3\"                "
      ]
     },
     "metadata": {},
     "output_type": "display_data"
    }
   ],
   "source": [
    "# Verify newly added columns and order\n",
    "colnames(MMRdata_subset)"
   ]
  },
  {
   "cell_type": "code",
   "execution_count": 77,
   "metadata": {},
   "outputs": [],
   "source": [
    "# Function for the Maximazation Step of EM Algorithm \n",
    "M_step <- function(MMRdata_subset, LR.formula)\n",
    "{\n",
    "  attrs<- colnames(MMRdata_subset[1:(no.of.attr)])\n",
    "  LR.formula <- formula(paste(\"Saved ~ \", paste(attrs, collapse = \"+\")))\n",
    "    \n",
    "  for(i in 1:n) {\n",
    "    #print(i)\n",
    "    #print(LR.formula)\n",
    "    model <- glm(formula = LR.formula, weights = MMRdata_subset[[total.no.var+1+n+i]], data=MMRdata_subset, family= \"binomial\")\n",
    "    params[i] <- summary(model)$coefficients[,1]\n",
    "    \n",
    "      \n",
    "      \n",
    "    Vni[i] <- params[1,i] + params[2,i]* MMRdata_subset[[1]] + params[3,i]* MMRdata_subset[[2]] +\n",
    "              params[4,i]* MMRdata_subset[[3]] + params[5,i]* MMRdata_subset[[4]] + params[6,i]* MMRdata_subset[[5]] +\n",
    "              params[7,i]* MMRdata_subset[[6]] + params[8,i]* MMRdata_subset[[7]] + params[9,i]* MMRdata_subset[[8]] +\n",
    "              params[10,i]* MMRdata_subset[[9]] + params[11,i]* MMRdata_subset[[10]] + params[12,i]* MMRdata_subset[[11]] +\n",
    "              params[13,i]* MMRdata_subset[[12]] + params[14,i]* MMRdata_subset[[13]] + params[15,i]* MMRdata_subset[[14]] +\n",
    "              params[16,i]* MMRdata_subset[[15]] + params[17,i]* MMRdata_subset[[16]] + params[18,i]* MMRdata_subset[[17]] +\n",
    "              params[19,i]* MMRdata_subset[[18]] + params[20,i]* MMRdata_subset[[19]] + params[21,i]* MMRdata_subset[[20]] +\n",
    "              params[22,i]* MMRdata_subset[[21]] + params[23,i]* MMRdata_subset[[22]] + params[24,i]* MMRdata_subset[[23]]\n",
    "    \n",
    "    if(i==1) {model1 <- model}\n",
    "    if(i==2) {model2 <- model}\n",
    "    if(i==3) {model3 <- model}\n",
    "  }\n",
    "  \n",
    "  q <- Vni %>% \n",
    "        mutate(a1 = apply(X = Vni, MARGIN = 1, FUN = function(x) exp(x - logSumExp(x))[1]),\n",
    "               a2 = apply(X = Vni, MARGIN = 1, FUN = function(x) exp(x - logSumExp(x))[2]),\n",
    "               a3 = apply(X = Vni, MARGIN = 1, FUN = function(x) exp(x - logSumExp(x))[3]),\n",
    "               a4 = apply(X = Vni, MARGIN = 1, FUN = function(x) exp(x - logSumExp(x))[4]))\n",
    "                      \n",
    "    \n",
    "  for (i in 1:n) {\n",
    "      Pni[i] <- q[n+i]^MMRdata_subset[[total.no.var+1]]\n",
    "    }\n",
    "  \n",
    "  \n",
    "  list(\"params\" = params, \n",
    "       \"Ch_prb\" = Pni,\n",
    "        \"model1\" = model1,\n",
    "        \"model2\" = model2,\n",
    "        \"model3\" = model3)\n",
    "}"
   ]
  },
  {
   "cell_type": "code",
   "execution_count": 78,
   "metadata": {},
   "outputs": [],
   "source": [
    "# Function for the Expectation Step of EM Algorithm\n",
    "E_step <- function(MMRdata_subset)\n",
    "{\n",
    "  # Conditional Class Probability - eq 8\n",
    "  for (i in 1:n) {\n",
    "    num[i] <- MMRdata_subset[total.no.var+1+2*n+i] * MMRdata_subset[total.no.var+1+n+i]\n",
    "  }\n",
    "  \n",
    "  den <- rowSums(num) \n",
    "  \n",
    "  for (i in 1:n){\n",
    "    clsprob[i] <- num[i]/den\n",
    "  }\n",
    "  \n",
    "  list(\"clsprob\" = clsprob)\n",
    "}"
   ]
  },
  {
   "cell_type": "code",
   "execution_count": null,
   "metadata": {},
   "outputs": [],
   "source": [
    "sum_ll<-0\n",
    "iter<-0\n",
    "LogLike_iter <- vector()\n",
    "\n",
    "# Iterations of the EM algorithm until convergence \n",
    "while(iter< 3000)\n",
    "{\n",
    "  \n",
    "  iter<- iter+1\n",
    "  #print(iter)\n",
    "  \n",
    "  # E step function call\n",
    "  if (iter > 1 )\n",
    "  {\n",
    "    start_time <- Sys.time()\n",
    "    e.out <- E_step(MMRdata_subset)\n",
    "    \n",
    "    \n",
    "    #Update clsprob to dataset dataframe\n",
    "    MMRdata_subset[(total.no.var+1+1) : (total.no.var+1+n)]<- e.out$clsprob\n",
    "    \n",
    "    end_time <- Sys.time()\n",
    "    \n",
    "  }\n",
    "  \n",
    "  \n",
    "  \n",
    "  \n",
    "  # Unconditional Class Probability - eq 6\n",
    "  \n",
    "  # Mean of similar covariate combinations\n",
    "  x<- MMRdata_subset%>%\n",
    "    group_by(context,severity,Resp_Party) %>% \n",
    "    summarise_at(vars(matches(\"classcond_prb\")),mean)\n",
    "    \n",
    "  \n",
    "  # create concatenation of attribute combinations\n",
    "  x$comb <- apply(x[1:no.of.cov],1,paste,collapse=\"\")\n",
    "  MMRdata_subset$comb <- apply(MMRdata_subset[startindex.cov:(startindex.cov+no.of.cov-1)],1,paste,collapse=\"\")\n",
    "  \n",
    "  # assigning respective mean values \n",
    "  for (q in x[[no.of.cov+n+1]]) {\n",
    "    for (j in 1:n) {\n",
    "      MMRdata_subset[which(MMRdata_subset$comb == q), total.no.var+1+n+j] <- x[which(x$comb == q), no.of.cov+j]\n",
    "    }\n",
    "  }\n",
    "  \n",
    "  \n",
    "  # M STEP func call \n",
    "  \n",
    "  start_time <- Sys.time()\n",
    "  m.out <- M_step(MMRdata_subset, LR.formula)\n",
    "  end_time <- Sys.time()\n",
    "  #print(\"mstep:\")\n",
    "  #print((end_time-start_time))\n",
    "  \n",
    "  #param1.hist[,iter]<-m.out$params[1]\n",
    "  #param2.hist[,iter]<-m.out$params[2]\n",
    "  #param3.hist[,iter]<-m.out$params[3]\n",
    "  \n",
    "    \n",
    "  #ClassCond1.hist[,iter]<-MMRdata_subset$classcond_prb1\n",
    "  #ClassCond2.hist[,iter]<-MMRdata_subset$classcond_prb2\n",
    "  #ClassCond3.hist[,iter]<-MMRdata_subset$classcond_prb3\n",
    "    \n",
    "  #Initialize : update choice probabilities on dataset dataframe\n",
    "  start_time <- Sys.time()\n",
    "  MMRdata_subset[(total.no.var+1+2*n+1):(total.no.var+1+2*n+n)] <- m.out$Ch_prb\n",
    "  prev_loglike <- sum_ll\n",
    "  \n",
    "  # LOG LIKELIHOOD\n",
    "  LL <- as.data.frame(matrix(data = rep(0, dataset.rows), nrow=dataset.rows ,ncol = 1))\n",
    "  LogL <- as.data.frame(matrix(data = rep(0, dataset.rows), nrow=dataset.rows ,ncol = 1))\n",
    "  \n",
    "  for (i in 1:n) {\n",
    "    # choice_prb * uncon_prb\n",
    "    LL <- LL + (MMRdata_subset[no.of.attr+1+2*n+i] * MMRdata_subset[no.of.attr+1+n+i])\n",
    "    \n",
    "  }\n",
    "  \n",
    "\n",
    "  LogL<- log(LL)\n",
    "  sum_ll <- sum(LogL)\n",
    "  loglike<-rbind(loglike, sum_ll)\n",
    "  \n",
    "  if (iter%%500 == 0) {\n",
    "    filename<-paste(paste('C3_2_init1_itersave_', iter,sep = ''), 'csv', sep='.')\n",
    "    write.csv(MMRdata_subset,filename, row.names=FALSE)\n",
    "      \n",
    "    filename1<-paste(paste('C3_2_init1_itersave_params', iter,sep = ''), 'csv', sep='.')\n",
    "    write.csv(m.out$params,filename1, row.names=FALSE)\n",
    "  }\n",
    "  print(paste(iter,sum_ll))\n",
    "  LogLike_iter <- append(LogLike_iter, sum_ll)\n",
    "  end_time <- Sys.time()\n",
    "  #print(\"Loglike:\")\n",
    "  #print((end_time-start_time))\n",
    "  \n",
    "}\n"
   ]
  },
  {
   "cell_type": "code",
   "execution_count": 90,
   "metadata": {
    "scrolled": false
   },
   "outputs": [
    {
     "data": {
      "image/png": "[encoded data removed]",
      "text/plain": [
       "plot without title"
      ]
     },
     "metadata": {},
     "output_type": "display_data"
    }
   ],
   "source": [
    "m1<-coefplot(m.out$model1)\n",
    "m2<-coefplot(m.out$model2)\n",
    "m3<-coefplot(m.out$model3)\n",
    "plot_grid(m1, m2, m3, labels = c('Cluster 1', 'Cluster 2','Cluster 3'),label_size = 10)"
   ]
  },
  {
   "cell_type": "code",
   "execution_count": 85,
   "metadata": {},
   "outputs": [
    {
     "name": "stderr",
     "output_type": "stream",
     "text": [
      "Updating HTML index of packages in '.Library'\n",
      "Making 'packages.html' ... done\n"
     ]
    }
   ],
   "source": [
    "install.packages(\"cowplot\")\n",
    "library(\"cowplot\" )"
   ]
  },
  {
   "cell_type": "code",
   "execution_count": 78,
   "metadata": {},
   "outputs": [
    {
     "data": {
      "image/png": "[encoded data removed]",
      "text/plain": [
       "plot without title"
      ]
     },
     "metadata": {},
     "output_type": "display_data"
    }
   ],
   "source": [
    "library(\"cowplot\" )\n",
    "library(\"coefplot\")\n",
    "multiplot(m.out$model1,m.out$model2,m.out$model3)"
   ]
  },
  {
   "cell_type": "code",
   "execution_count": 92,
   "metadata": {},
   "outputs": [
    {
     "data": {
      "image/png": "[encoded data removed]",
      "text/plain": [
       "plot without title"
      ]
     },
     "metadata": {},
     "output_type": "display_data"
    }
   ],
   "source": [
    "plot(-LogLike_iter[1000:3000], type='l')"
   ]
  },
  {
   "cell_type": "code",
   "execution_count": 2,
   "metadata": {},
   "outputs": [
    {
     "name": "stderr",
     "output_type": "stream",
     "text": [
      "Parsed with column specification:\n",
      "cols(\n",
      "  Intervention = col_double(),\n",
      "  Fitness = col_double(),\n",
      "  Gender = col_double(),\n",
      "  SocialStatus = col_double(),\n",
      "  Age = col_double(),\n",
      "  Species = col_double(),\n",
      "  Utilitarian = col_double(),\n",
      "  Country = col_double(),\n",
      "  Saved = col_double(),\n",
      "  classcond_prb1 = col_double(),\n",
      "  classcond_prb2 = col_double(),\n",
      "  classcond_prb3 = col_double(),\n",
      "  uncond_prb1 = col_double(),\n",
      "  uncond_prb2 = col_double(),\n",
      "  uncond_prb3 = col_double(),\n",
      "  choice_prb1 = col_double(),\n",
      "  choice_prb2 = col_double(),\n",
      "  choice_prb3 = col_double(),\n",
      "  comb = col_double()\n",
      ")\n"
     ]
    },
    {
     "data": {
      "text/html": [
       "<table>\n",
       "<thead><tr><th scope=col>Intervention</th><th scope=col>Fitness</th><th scope=col>Gender</th><th scope=col>SocialStatus</th><th scope=col>Age</th><th scope=col>Species</th><th scope=col>Utilitarian</th><th scope=col>Country</th><th scope=col>Saved</th><th scope=col>classcond_prb1</th><th scope=col>classcond_prb2</th><th scope=col>classcond_prb3</th><th scope=col>uncond_prb1</th><th scope=col>uncond_prb2</th><th scope=col>uncond_prb3</th><th scope=col>choice_prb1</th><th scope=col>choice_prb2</th><th scope=col>choice_prb3</th><th scope=col>comb</th></tr></thead>\n",
       "<tbody>\n",
       "\t<tr><td>0           </td><td>0           </td><td>1           </td><td>0           </td><td>0           </td><td>0           </td><td>0           </td><td>4           </td><td>1           </td><td>5.506759e-08</td><td>8.372874e-13</td><td>0.9999999   </td><td>4.88376e-08 </td><td>7.375163e-13</td><td>1           </td><td>0.3427102   </td><td>0.3450538   </td><td>0.3122360   </td><td>4           </td></tr>\n",
       "\t<tr><td>0           </td><td>0           </td><td>0           </td><td>0           </td><td>0           </td><td>0           </td><td>0           </td><td>4           </td><td>0           </td><td>5.017443e-08</td><td>7.576539e-13</td><td>0.9999999   </td><td>4.88376e-08 </td><td>7.375163e-13</td><td>1           </td><td>1.0000000   </td><td>1.0000000   </td><td>1.0000000   </td><td>4           </td></tr>\n",
       "\t<tr><td>0           </td><td>0           </td><td>0           </td><td>0           </td><td>1           </td><td>0           </td><td>0           </td><td>4           </td><td>0           </td><td>5.017443e-08</td><td>7.576539e-13</td><td>0.9999999   </td><td>4.88376e-08 </td><td>7.375163e-13</td><td>1           </td><td>1.0000000   </td><td>1.0000000   </td><td>1.0000000   </td><td>4           </td></tr>\n",
       "\t<tr><td>0           </td><td>0           </td><td>0           </td><td>0           </td><td>0           </td><td>0           </td><td>0           </td><td>4           </td><td>0           </td><td>5.017443e-08</td><td>7.576539e-13</td><td>0.9999999   </td><td>4.88376e-08 </td><td>7.375163e-13</td><td>1           </td><td>1.0000000   </td><td>1.0000000   </td><td>1.0000000   </td><td>4           </td></tr>\n",
       "\t<tr><td>0           </td><td>1           </td><td>0           </td><td>0           </td><td>0           </td><td>0           </td><td>0           </td><td>4           </td><td>0           </td><td>5.017443e-08</td><td>7.576539e-13</td><td>0.9999999   </td><td>4.88376e-08 </td><td>7.375163e-13</td><td>1           </td><td>1.0000000   </td><td>1.0000000   </td><td>1.0000000   </td><td>4           </td></tr>\n",
       "\t<tr><td>0           </td><td>0           </td><td>0           </td><td>0           </td><td>0           </td><td>0           </td><td>1           </td><td>4           </td><td>1           </td><td>4.766598e-08</td><td>7.234270e-13</td><td>1.0000000   </td><td>4.88376e-08 </td><td>7.375163e-13</td><td>1           </td><td>0.3270535   </td><td>0.3286976   </td><td>0.3442489   </td><td>4           </td></tr>\n",
       "</tbody>\n",
       "</table>\n"
      ],
      "text/latex": [
       "\\begin{tabular}{r|lllllllllllllllllll}\n",
       " Intervention & Fitness & Gender & SocialStatus & Age & Species & Utilitarian & Country & Saved & classcond\\_prb1 & classcond\\_prb2 & classcond\\_prb3 & uncond\\_prb1 & uncond\\_prb2 & uncond\\_prb3 & choice\\_prb1 & choice\\_prb2 & choice\\_prb3 & comb\\\\\n",
       "\\hline\n",
       "\t 0            & 0            & 1            & 0            & 0            & 0            & 0            & 4            & 1            & 5.506759e-08 & 8.372874e-13 & 0.9999999    & 4.88376e-08  & 7.375163e-13 & 1            & 0.3427102    & 0.3450538    & 0.3122360    & 4           \\\\\n",
       "\t 0            & 0            & 0            & 0            & 0            & 0            & 0            & 4            & 0            & 5.017443e-08 & 7.576539e-13 & 0.9999999    & 4.88376e-08  & 7.375163e-13 & 1            & 1.0000000    & 1.0000000    & 1.0000000    & 4           \\\\\n",
       "\t 0            & 0            & 0            & 0            & 1            & 0            & 0            & 4            & 0            & 5.017443e-08 & 7.576539e-13 & 0.9999999    & 4.88376e-08  & 7.375163e-13 & 1            & 1.0000000    & 1.0000000    & 1.0000000    & 4           \\\\\n",
       "\t 0            & 0            & 0            & 0            & 0            & 0            & 0            & 4            & 0            & 5.017443e-08 & 7.576539e-13 & 0.9999999    & 4.88376e-08  & 7.375163e-13 & 1            & 1.0000000    & 1.0000000    & 1.0000000    & 4           \\\\\n",
       "\t 0            & 1            & 0            & 0            & 0            & 0            & 0            & 4            & 0            & 5.017443e-08 & 7.576539e-13 & 0.9999999    & 4.88376e-08  & 7.375163e-13 & 1            & 1.0000000    & 1.0000000    & 1.0000000    & 4           \\\\\n",
       "\t 0            & 0            & 0            & 0            & 0            & 0            & 1            & 4            & 1            & 4.766598e-08 & 7.234270e-13 & 1.0000000    & 4.88376e-08  & 7.375163e-13 & 1            & 0.3270535    & 0.3286976    & 0.3442489    & 4           \\\\\n",
       "\\end{tabular}\n"
      ],
      "text/markdown": [
       "\n",
       "| Intervention | Fitness | Gender | SocialStatus | Age | Species | Utilitarian | Country | Saved | classcond_prb1 | classcond_prb2 | classcond_prb3 | uncond_prb1 | uncond_prb2 | uncond_prb3 | choice_prb1 | choice_prb2 | choice_prb3 | comb |\n",
       "|---|---|---|---|---|---|---|---|---|---|---|---|---|---|---|---|---|---|---|\n",
       "| 0            | 0            | 1            | 0            | 0            | 0            | 0            | 4            | 1            | 5.506759e-08 | 8.372874e-13 | 0.9999999    | 4.88376e-08  | 7.375163e-13 | 1            | 0.3427102    | 0.3450538    | 0.3122360    | 4            |\n",
       "| 0            | 0            | 0            | 0            | 0            | 0            | 0            | 4            | 0            | 5.017443e-08 | 7.576539e-13 | 0.9999999    | 4.88376e-08  | 7.375163e-13 | 1            | 1.0000000    | 1.0000000    | 1.0000000    | 4            |\n",
       "| 0            | 0            | 0            | 0            | 1            | 0            | 0            | 4            | 0            | 5.017443e-08 | 7.576539e-13 | 0.9999999    | 4.88376e-08  | 7.375163e-13 | 1            | 1.0000000    | 1.0000000    | 1.0000000    | 4            |\n",
       "| 0            | 0            | 0            | 0            | 0            | 0            | 0            | 4            | 0            | 5.017443e-08 | 7.576539e-13 | 0.9999999    | 4.88376e-08  | 7.375163e-13 | 1            | 1.0000000    | 1.0000000    | 1.0000000    | 4            |\n",
       "| 0            | 1            | 0            | 0            | 0            | 0            | 0            | 4            | 0            | 5.017443e-08 | 7.576539e-13 | 0.9999999    | 4.88376e-08  | 7.375163e-13 | 1            | 1.0000000    | 1.0000000    | 1.0000000    | 4            |\n",
       "| 0            | 0            | 0            | 0            | 0            | 0            | 1            | 4            | 1            | 4.766598e-08 | 7.234270e-13 | 1.0000000    | 4.88376e-08  | 7.375163e-13 | 1            | 0.3270535    | 0.3286976    | 0.3442489    | 4            |\n",
       "\n"
      ],
      "text/plain": [
       "  Intervention Fitness Gender SocialStatus Age Species Utilitarian Country\n",
       "1 0            0       1      0            0   0       0           4      \n",
       "2 0            0       0      0            0   0       0           4      \n",
       "3 0            0       0      0            1   0       0           4      \n",
       "4 0            0       0      0            0   0       0           4      \n",
       "5 0            1       0      0            0   0       0           4      \n",
       "6 0            0       0      0            0   0       1           4      \n",
       "  Saved classcond_prb1 classcond_prb2 classcond_prb3 uncond_prb1 uncond_prb2 \n",
       "1 1     5.506759e-08   8.372874e-13   0.9999999      4.88376e-08 7.375163e-13\n",
       "2 0     5.017443e-08   7.576539e-13   0.9999999      4.88376e-08 7.375163e-13\n",
       "3 0     5.017443e-08   7.576539e-13   0.9999999      4.88376e-08 7.375163e-13\n",
       "4 0     5.017443e-08   7.576539e-13   0.9999999      4.88376e-08 7.375163e-13\n",
       "5 0     5.017443e-08   7.576539e-13   0.9999999      4.88376e-08 7.375163e-13\n",
       "6 1     4.766598e-08   7.234270e-13   1.0000000      4.88376e-08 7.375163e-13\n",
       "  uncond_prb3 choice_prb1 choice_prb2 choice_prb3 comb\n",
       "1 1           0.3427102   0.3450538   0.3122360   4   \n",
       "2 1           1.0000000   1.0000000   1.0000000   4   \n",
       "3 1           1.0000000   1.0000000   1.0000000   4   \n",
       "4 1           1.0000000   1.0000000   1.0000000   4   \n",
       "5 1           1.0000000   1.0000000   1.0000000   4   \n",
       "6 1           0.3270535   0.3286976   0.3442489   4   "
      ]
     },
     "metadata": {},
     "output_type": "display_data"
    }
   ],
   "source": [
    "iterload <- read_csv(\"itersave_1000.csv\")\n",
    "head(iterload)\n",
    "library(ggplot2)\n",
    "\n",
    "MMRdata_subset = iterload"
   ]
  },
  {
   "cell_type": "markdown",
   "metadata": {},
   "source": [
    "### Information Criteria"
   ]
  },
  {
   "cell_type": "code",
   "execution_count": 93,
   "metadata": {},
   "outputs": [],
   "source": [
    "# k - number of parameters\n",
    "k = 24 * n\n",
    "aic = -2*sum_ll + 2*k\n",
    "bic = -2*sum_ll + k*log(dataset.rows)\n",
    "aicc = -2*sum_ll + 2*k*(dataset.rows / (dataset.rows - k - 1))\n",
    "caic = -2*sum_ll + k*(log(dataset.rows) + 1)"
   ]
  },
  {
   "cell_type": "code",
   "execution_count": 87,
   "metadata": {},
   "outputs": [],
   "source": [
    "model2000_1 = m.out$model1\n",
    "model2000_2 = m.out$model2\n",
    "model2000_3 = m.out$model3"
   ]
  },
  {
   "cell_type": "code",
   "execution_count": 94,
   "metadata": {},
   "outputs": [
    {
     "name": "stdout",
     "output_type": "stream",
     "text": [
      "[1] \"Log Likelihood =  -6263.9689295669\"\n",
      "[1] \"AIC =  12671.9378591338\"\n",
      "[1] \"BIC =  13219.0559778073\"\n",
      "[1] \"AICC =  12672.6541794064\"\n",
      "[1] \"CAIC =  13291.0559778073\"\n"
     ]
    }
   ],
   "source": [
    "print(paste(\"Log Likelihood = \", sum_ll))\n",
    "print(paste(\"AIC = \", aic))\n",
    "print(paste(\"BIC = \", bic))\n",
    "print(paste(\"AICC = \", aicc))\n",
    "print(paste(\"CAIC = \", caic))\n"
   ]
  },
  {
   "cell_type": "code",
   "execution_count": 89,
   "metadata": {},
   "outputs": [
    {
     "data": {
      "text/html": [
       "<ol class=list-inline>\n",
       "\t<li>2000</li>\n",
       "\t<li>-6261.90774540479</li>\n",
       "\t<li>12667.8154908096</li>\n",
       "\t<li>13214.9336094831</li>\n",
       "\t<li>12668.5318110821</li>\n",
       "\t<li>13286.9336094831</li>\n",
       "</ol>\n"
      ],
      "text/latex": [
       "\\begin{enumerate*}\n",
       "\\item 2000\n",
       "\\item -6261.90774540479\n",
       "\\item 12667.8154908096\n",
       "\\item 13214.9336094831\n",
       "\\item 12668.5318110821\n",
       "\\item 13286.9336094831\n",
       "\\end{enumerate*}\n"
      ],
      "text/markdown": [
       "1. 2000\n",
       "2. -6261.90774540479\n",
       "3. 12667.8154908096\n",
       "4. 13214.9336094831\n",
       "5. 12668.5318110821\n",
       "6. 13286.9336094831\n",
       "\n",
       "\n"
      ],
      "text/plain": [
       "[1]  2000.000 -6261.908 12667.815 13214.934 12668.532 13286.934"
      ]
     },
     "metadata": {},
     "output_type": "display_data"
    }
   ],
   "source": [
    "IC <- c(iter, sum_ll, aic, bic, aicc, caic)\n",
    "IC\n",
    "capture.output(IC, file = \"C3_2_init1_iter2000.txt\")  "
   ]
  },
  {
   "cell_type": "code",
   "execution_count": 142,
   "metadata": {
    "scrolled": true
   },
   "outputs": [],
   "source": [
    "ci.1 <- confint(model2000_1)\n",
    "ci.2 <- confint(model2000_2)\n",
    "ci.3 <- confint(model2000_3)\n",
    "CI<- as.data.frame(matrix(nrow = no.of.attr+1, ncol = 2*n))\n",
    "#CI <- CI$model1\n",
    "#colnames(CI)\n",
    "#names(CI)[1] <- \"model1_2.5%\"\n",
    "#names(CI)[2] <- \"model1_97.5%\""
   ]
  },
  {
   "cell_type": "code",
   "execution_count": 153,
   "metadata": {},
   "outputs": [
    {
     "data": {
      "text/html": [
       "<table>\n",
       "<thead><tr><th scope=col>model1_2.5%</th><th scope=col>model1_97.5</th><th scope=col>model2_2.5%</th><th scope=col>model2_97.5</th><th scope=col>model3_2.5%</th><th scope=col>model3_97.5</th></tr></thead>\n",
       "<tbody>\n",
       "\t<tr><td> 0.09168527 </td><td> 0.64395050 </td><td>-0.61478088 </td><td>-0.102402148</td><td>-0.170322975</td><td> 0.49138548 </td></tr>\n",
       "\t<tr><td> 0.03943803 </td><td> 0.31288551 </td><td>-0.04105048 </td><td> 0.213930544</td><td>-0.059826600</td><td> 0.26927207 </td></tr>\n",
       "\t<tr><td>-0.41916554 </td><td>-0.14495959 </td><td>-0.24310363 </td><td> 0.008887364</td><td>-0.152536512</td><td> 0.17386721 </td></tr>\n",
       "\t<tr><td>-0.33387082 </td><td>-0.05933348 </td><td> 0.04843072 </td><td> 0.302266037</td><td>-0.200363327</td><td> 0.12554067 </td></tr>\n",
       "\t<tr><td>-0.50337496 </td><td>-0.22736976 </td><td> 0.31382966 </td><td> 0.568093200</td><td>-0.710714850</td><td>-0.38365439 </td></tr>\n",
       "\t<tr><td>-0.37511782 </td><td>-0.10018080 </td><td>-0.32679965 </td><td>-0.072682194</td><td>-0.426347930</td><td>-0.09795059 </td></tr>\n",
       "\t<tr><td>-0.81043067 </td><td>-0.53446653 </td><td>-0.70779481 </td><td>-0.453685702</td><td>-0.602873161</td><td>-0.27423300 </td></tr>\n",
       "\t<tr><td> 0.25930124 </td><td> 0.48382800 </td><td> 0.35459994 </td><td> 0.562169886</td><td> 0.380629119</td><td> 0.64894773 </td></tr>\n",
       "\t<tr><td>-0.35936966 </td><td> 0.11814131 </td><td>-0.32874417 </td><td> 0.120045044</td><td>-0.341065024</td><td> 0.23394359 </td></tr>\n",
       "\t<tr><td>-0.58337937 </td><td>-0.10481586 </td><td>-0.29423334 </td><td> 0.142865185</td><td>-0.333976432</td><td> 0.23517314 </td></tr>\n",
       "\t<tr><td>-0.71423346 </td><td>-0.23343632 </td><td>-0.41931512 </td><td> 0.029136507</td><td>-0.284233643</td><td> 0.28835788 </td></tr>\n",
       "\t<tr><td>-0.28572812 </td><td> 0.18810551 </td><td>-0.18261803 </td><td> 0.259511715</td><td>-0.266970069</td><td> 0.30294151 </td></tr>\n",
       "\t<tr><td>-0.29461303 </td><td> 0.17811637 </td><td>-0.21017622 </td><td> 0.227373768</td><td>-0.343551126</td><td> 0.24011262 </td></tr>\n",
       "\t<tr><td>-0.56199827 </td><td>-0.08068992 </td><td>-0.24993670 </td><td> 0.190246073</td><td>-0.220392353</td><td> 0.34514839 </td></tr>\n",
       "\t<tr><td>-0.64753310 </td><td>-0.15819472 </td><td>-0.30336937 </td><td> 0.143667962</td><td>-0.269052741</td><td> 0.30099317 </td></tr>\n",
       "\t<tr><td>-0.12467192 </td><td> 0.35143631 </td><td>-0.36206169 </td><td> 0.077180284</td><td>-0.560248655</td><td> 0.02383918 </td></tr>\n",
       "\t<tr><td>-0.07160893 </td><td> 0.24613145 </td><td> 0.23670227 </td><td> 0.529512197</td><td>-0.009311384</td><td> 0.37078181 </td></tr>\n",
       "\t<tr><td>-0.17759344 </td><td> 0.13939830 </td><td> 0.07353310 </td><td> 0.367523561</td><td>-0.269292314</td><td> 0.10866233 </td></tr>\n",
       "\t<tr><td> 0.08059038 </td><td> 0.39652690 </td><td> 0.34981323 </td><td> 0.644562060</td><td>-0.137013257</td><td> 0.23826897 </td></tr>\n",
       "\t<tr><td>-0.16845267 </td><td> 0.14832531 </td><td>-0.15880671 </td><td> 0.133854379</td><td>-0.203075251</td><td> 0.17248780 </td></tr>\n",
       "\t<tr><td>-0.05717171 </td><td> 0.26111663 </td><td>-0.13703697 </td><td> 0.155527792</td><td>-0.195991463</td><td> 0.18421844 </td></tr>\n",
       "\t<tr><td>-0.02540482 </td><td> 0.28855959 </td><td>-0.14977786 </td><td> 0.141566918</td><td>-0.183383401</td><td> 0.19261326 </td></tr>\n",
       "\t<tr><td>-0.07446092 </td><td> 0.19886883 </td><td>-0.08655956 </td><td> 0.166375459</td><td>-0.158505285</td><td> 0.17052884 </td></tr>\n",
       "\t<tr><td>-0.13159285 </td><td> 0.14280539 </td><td>-0.19647736 </td><td> 0.057785751</td><td>-0.258844732</td><td> 0.06771585 </td></tr>\n",
       "</tbody>\n",
       "</table>\n"
      ],
      "text/latex": [
       "\\begin{tabular}{r|llllll}\n",
       " model1\\_2.5\\% & model1\\_97.5 & model2\\_2.5\\% & model2\\_97.5 & model3\\_2.5\\% & model3\\_97.5\\\\\n",
       "\\hline\n",
       "\t  0.09168527  &  0.64395050  & -0.61478088  & -0.102402148 & -0.170322975 &  0.49138548 \\\\\n",
       "\t  0.03943803  &  0.31288551  & -0.04105048  &  0.213930544 & -0.059826600 &  0.26927207 \\\\\n",
       "\t -0.41916554  & -0.14495959  & -0.24310363  &  0.008887364 & -0.152536512 &  0.17386721 \\\\\n",
       "\t -0.33387082  & -0.05933348  &  0.04843072  &  0.302266037 & -0.200363327 &  0.12554067 \\\\\n",
       "\t -0.50337496  & -0.22736976  &  0.31382966  &  0.568093200 & -0.710714850 & -0.38365439 \\\\\n",
       "\t -0.37511782  & -0.10018080  & -0.32679965  & -0.072682194 & -0.426347930 & -0.09795059 \\\\\n",
       "\t -0.81043067  & -0.53446653  & -0.70779481  & -0.453685702 & -0.602873161 & -0.27423300 \\\\\n",
       "\t  0.25930124  &  0.48382800  &  0.35459994  &  0.562169886 &  0.380629119 &  0.64894773 \\\\\n",
       "\t -0.35936966  &  0.11814131  & -0.32874417  &  0.120045044 & -0.341065024 &  0.23394359 \\\\\n",
       "\t -0.58337937  & -0.10481586  & -0.29423334  &  0.142865185 & -0.333976432 &  0.23517314 \\\\\n",
       "\t -0.71423346  & -0.23343632  & -0.41931512  &  0.029136507 & -0.284233643 &  0.28835788 \\\\\n",
       "\t -0.28572812  &  0.18810551  & -0.18261803  &  0.259511715 & -0.266970069 &  0.30294151 \\\\\n",
       "\t -0.29461303  &  0.17811637  & -0.21017622  &  0.227373768 & -0.343551126 &  0.24011262 \\\\\n",
       "\t -0.56199827  & -0.08068992  & -0.24993670  &  0.190246073 & -0.220392353 &  0.34514839 \\\\\n",
       "\t -0.64753310  & -0.15819472  & -0.30336937  &  0.143667962 & -0.269052741 &  0.30099317 \\\\\n",
       "\t -0.12467192  &  0.35143631  & -0.36206169  &  0.077180284 & -0.560248655 &  0.02383918 \\\\\n",
       "\t -0.07160893  &  0.24613145  &  0.23670227  &  0.529512197 & -0.009311384 &  0.37078181 \\\\\n",
       "\t -0.17759344  &  0.13939830  &  0.07353310  &  0.367523561 & -0.269292314 &  0.10866233 \\\\\n",
       "\t  0.08059038  &  0.39652690  &  0.34981323  &  0.644562060 & -0.137013257 &  0.23826897 \\\\\n",
       "\t -0.16845267  &  0.14832531  & -0.15880671  &  0.133854379 & -0.203075251 &  0.17248780 \\\\\n",
       "\t -0.05717171  &  0.26111663  & -0.13703697  &  0.155527792 & -0.195991463 &  0.18421844 \\\\\n",
       "\t -0.02540482  &  0.28855959  & -0.14977786  &  0.141566918 & -0.183383401 &  0.19261326 \\\\\n",
       "\t -0.07446092  &  0.19886883  & -0.08655956  &  0.166375459 & -0.158505285 &  0.17052884 \\\\\n",
       "\t -0.13159285  &  0.14280539  & -0.19647736  &  0.057785751 & -0.258844732 &  0.06771585 \\\\\n",
       "\\end{tabular}\n"
      ],
      "text/markdown": [
       "\n",
       "| model1_2.5% | model1_97.5 | model2_2.5% | model2_97.5 | model3_2.5% | model3_97.5 |\n",
       "|---|---|---|---|---|---|\n",
       "|  0.09168527  |  0.64395050  | -0.61478088  | -0.102402148 | -0.170322975 |  0.49138548  |\n",
       "|  0.03943803  |  0.31288551  | -0.04105048  |  0.213930544 | -0.059826600 |  0.26927207  |\n",
       "| -0.41916554  | -0.14495959  | -0.24310363  |  0.008887364 | -0.152536512 |  0.17386721  |\n",
       "| -0.33387082  | -0.05933348  |  0.04843072  |  0.302266037 | -0.200363327 |  0.12554067  |\n",
       "| -0.50337496  | -0.22736976  |  0.31382966  |  0.568093200 | -0.710714850 | -0.38365439  |\n",
       "| -0.37511782  | -0.10018080  | -0.32679965  | -0.072682194 | -0.426347930 | -0.09795059  |\n",
       "| -0.81043067  | -0.53446653  | -0.70779481  | -0.453685702 | -0.602873161 | -0.27423300  |\n",
       "|  0.25930124  |  0.48382800  |  0.35459994  |  0.562169886 |  0.380629119 |  0.64894773  |\n",
       "| -0.35936966  |  0.11814131  | -0.32874417  |  0.120045044 | -0.341065024 |  0.23394359  |\n",
       "| -0.58337937  | -0.10481586  | -0.29423334  |  0.142865185 | -0.333976432 |  0.23517314  |\n",
       "| -0.71423346  | -0.23343632  | -0.41931512  |  0.029136507 | -0.284233643 |  0.28835788  |\n",
       "| -0.28572812  |  0.18810551  | -0.18261803  |  0.259511715 | -0.266970069 |  0.30294151  |\n",
       "| -0.29461303  |  0.17811637  | -0.21017622  |  0.227373768 | -0.343551126 |  0.24011262  |\n",
       "| -0.56199827  | -0.08068992  | -0.24993670  |  0.190246073 | -0.220392353 |  0.34514839  |\n",
       "| -0.64753310  | -0.15819472  | -0.30336937  |  0.143667962 | -0.269052741 |  0.30099317  |\n",
       "| -0.12467192  |  0.35143631  | -0.36206169  |  0.077180284 | -0.560248655 |  0.02383918  |\n",
       "| -0.07160893  |  0.24613145  |  0.23670227  |  0.529512197 | -0.009311384 |  0.37078181  |\n",
       "| -0.17759344  |  0.13939830  |  0.07353310  |  0.367523561 | -0.269292314 |  0.10866233  |\n",
       "|  0.08059038  |  0.39652690  |  0.34981323  |  0.644562060 | -0.137013257 |  0.23826897  |\n",
       "| -0.16845267  |  0.14832531  | -0.15880671  |  0.133854379 | -0.203075251 |  0.17248780  |\n",
       "| -0.05717171  |  0.26111663  | -0.13703697  |  0.155527792 | -0.195991463 |  0.18421844  |\n",
       "| -0.02540482  |  0.28855959  | -0.14977786  |  0.141566918 | -0.183383401 |  0.19261326  |\n",
       "| -0.07446092  |  0.19886883  | -0.08655956  |  0.166375459 | -0.158505285 |  0.17052884  |\n",
       "| -0.13159285  |  0.14280539  | -0.19647736  |  0.057785751 | -0.258844732 |  0.06771585  |\n",
       "\n"
      ],
      "text/plain": [
       "   model1_2.5% model1_97.5 model2_2.5% model2_97.5  model3_2.5%  model3_97.5\n",
       "1   0.09168527  0.64395050 -0.61478088 -0.102402148 -0.170322975  0.49138548\n",
       "2   0.03943803  0.31288551 -0.04105048  0.213930544 -0.059826600  0.26927207\n",
       "3  -0.41916554 -0.14495959 -0.24310363  0.008887364 -0.152536512  0.17386721\n",
       "4  -0.33387082 -0.05933348  0.04843072  0.302266037 -0.200363327  0.12554067\n",
       "5  -0.50337496 -0.22736976  0.31382966  0.568093200 -0.710714850 -0.38365439\n",
       "6  -0.37511782 -0.10018080 -0.32679965 -0.072682194 -0.426347930 -0.09795059\n",
       "7  -0.81043067 -0.53446653 -0.70779481 -0.453685702 -0.602873161 -0.27423300\n",
       "8   0.25930124  0.48382800  0.35459994  0.562169886  0.380629119  0.64894773\n",
       "9  -0.35936966  0.11814131 -0.32874417  0.120045044 -0.341065024  0.23394359\n",
       "10 -0.58337937 -0.10481586 -0.29423334  0.142865185 -0.333976432  0.23517314\n",
       "11 -0.71423346 -0.23343632 -0.41931512  0.029136507 -0.284233643  0.28835788\n",
       "12 -0.28572812  0.18810551 -0.18261803  0.259511715 -0.266970069  0.30294151\n",
       "13 -0.29461303  0.17811637 -0.21017622  0.227373768 -0.343551126  0.24011262\n",
       "14 -0.56199827 -0.08068992 -0.24993670  0.190246073 -0.220392353  0.34514839\n",
       "15 -0.64753310 -0.15819472 -0.30336937  0.143667962 -0.269052741  0.30099317\n",
       "16 -0.12467192  0.35143631 -0.36206169  0.077180284 -0.560248655  0.02383918\n",
       "17 -0.07160893  0.24613145  0.23670227  0.529512197 -0.009311384  0.37078181\n",
       "18 -0.17759344  0.13939830  0.07353310  0.367523561 -0.269292314  0.10866233\n",
       "19  0.08059038  0.39652690  0.34981323  0.644562060 -0.137013257  0.23826897\n",
       "20 -0.16845267  0.14832531 -0.15880671  0.133854379 -0.203075251  0.17248780\n",
       "21 -0.05717171  0.26111663 -0.13703697  0.155527792 -0.195991463  0.18421844\n",
       "22 -0.02540482  0.28855959 -0.14977786  0.141566918 -0.183383401  0.19261326\n",
       "23 -0.07446092  0.19886883 -0.08655956  0.166375459 -0.158505285  0.17052884\n",
       "24 -0.13159285  0.14280539 -0.19647736  0.057785751 -0.258844732  0.06771585"
      ]
     },
     "metadata": {},
     "output_type": "display_data"
    }
   ],
   "source": [
    "#CI<-CI[7:12]\n",
    "CI\n",
    "filename<-paste(paste('ConfidenceIntervals',sep = ''), 'csv', sep='.')\n",
    "write.csv(CI,filename, row.names=FALSE)\n",
    "\n",
    "\n",
    "CI<- as.data.frame(matrix(nrow = no.of.attr+1, ncol = 2*n))\n",
    "CI['model3_2.5%']<-ci.3[,1]\n",
    "CI['model3_97.5']<-ci.3[,2]"
   ]
  },
  {
   "cell_type": "code",
   "execution_count": 159,
   "metadata": {},
   "outputs": [],
   "source": [
    "#Cluster exploration\n",
    "class1 = MMRdata_subset[which((MMRdata_subset$classcond_prb1 > MMRdata_subset$classcond_prb2) &\n",
    "                     (MMRdata_subset$classcond_prb1 > MMRdata_subset$classcond_prb3)), ]\n",
    "\n",
    "class2 = MMRdata_subset[which((MMRdata_subset$classcond_prb2 > MMRdata_subset$classcond_prb1) &\n",
    "                     (MMRdata_subset$classcond_prb2 > MMRdata_subset$classcond_prb3)), ]\n",
    "\n",
    "class3 = MMRdata_subset[which((MMRdata_subset$classcond_prb3 > MMRdata_subset$classcond_prb1) &\n",
    "                     (MMRdata_subset$classcond_prb3 > MMRdata_subset$classcond_prb2)), ]"
   ]
  },
  {
   "cell_type": "code",
   "execution_count": 160,
   "metadata": {},
   "outputs": [
    {
     "data": {
      "text/html": [
       "3856"
      ],
      "text/latex": [
       "3856"
      ],
      "text/markdown": [
       "3856"
      ],
      "text/plain": [
       "[1] 3856"
      ]
     },
     "metadata": {},
     "output_type": "display_data"
    },
    {
     "data": {
      "text/html": [
       "<table>\n",
       "<thead><tr><th scope=col>context</th><th scope=col>severity</th><th scope=col>Resp_Party</th></tr></thead>\n",
       "<tbody>\n",
       "\t<tr><td>1</td><td>1</td><td>1</td></tr>\n",
       "\t<tr><td>0</td><td>0</td><td>0</td></tr>\n",
       "\t<tr><td>0</td><td>1</td><td>0</td></tr>\n",
       "\t<tr><td>0</td><td>0</td><td>1</td></tr>\n",
       "\t<tr><td>0</td><td>1</td><td>1</td></tr>\n",
       "\t<tr><td>0</td><td>0</td><td>2</td></tr>\n",
       "\t<tr><td>0</td><td>1</td><td>2</td></tr>\n",
       "</tbody>\n",
       "</table>\n"
      ],
      "text/latex": [
       "\\begin{tabular}{r|lll}\n",
       " context & severity & Resp\\_Party\\\\\n",
       "\\hline\n",
       "\t 1 & 1 & 1\\\\\n",
       "\t 0 & 0 & 0\\\\\n",
       "\t 0 & 1 & 0\\\\\n",
       "\t 0 & 0 & 1\\\\\n",
       "\t 0 & 1 & 1\\\\\n",
       "\t 0 & 0 & 2\\\\\n",
       "\t 0 & 1 & 2\\\\\n",
       "\\end{tabular}\n"
      ],
      "text/markdown": [
       "\n",
       "| context | severity | Resp_Party |\n",
       "|---|---|---|\n",
       "| 1 | 1 | 1 |\n",
       "| 0 | 0 | 0 |\n",
       "| 0 | 1 | 0 |\n",
       "| 0 | 0 | 1 |\n",
       "| 0 | 1 | 1 |\n",
       "| 0 | 0 | 2 |\n",
       "| 0 | 1 | 2 |\n",
       "\n"
      ],
      "text/plain": [
       "  context severity Resp_Party\n",
       "1 1       1        1         \n",
       "2 0       0        0         \n",
       "3 0       1        0         \n",
       "4 0       0        1         \n",
       "5 0       1        1         \n",
       "6 0       0        2         \n",
       "7 0       1        2         "
      ]
     },
     "metadata": {},
     "output_type": "display_data"
    }
   ],
   "source": [
    "# Cluster 1 contents\n",
    "nrow(class1)\n",
    "distinct(class1[24:26])"
   ]
  },
  {
   "cell_type": "code",
   "execution_count": 161,
   "metadata": {},
   "outputs": [
    {
     "data": {
      "text/html": [
       "3041"
      ],
      "text/latex": [
       "3041"
      ],
      "text/markdown": [
       "3041"
      ],
      "text/plain": [
       "[1] 3041"
      ]
     },
     "metadata": {},
     "output_type": "display_data"
    },
    {
     "data": {
      "text/html": [
       "<table>\n",
       "<thead><tr><th scope=col>context</th><th scope=col>severity</th><th scope=col>Resp_Party</th></tr></thead>\n",
       "<tbody>\n",
       "\t<tr><td>1</td><td>1</td><td>1</td></tr>\n",
       "\t<tr><td>1</td><td>1</td><td>0</td></tr>\n",
       "\t<tr><td>0</td><td>0</td><td>1</td></tr>\n",
       "\t<tr><td>1</td><td>1</td><td>2</td></tr>\n",
       "</tbody>\n",
       "</table>\n"
      ],
      "text/latex": [
       "\\begin{tabular}{r|lll}\n",
       " context & severity & Resp\\_Party\\\\\n",
       "\\hline\n",
       "\t 1 & 1 & 1\\\\\n",
       "\t 1 & 1 & 0\\\\\n",
       "\t 0 & 0 & 1\\\\\n",
       "\t 1 & 1 & 2\\\\\n",
       "\\end{tabular}\n"
      ],
      "text/markdown": [
       "\n",
       "| context | severity | Resp_Party |\n",
       "|---|---|---|\n",
       "| 1 | 1 | 1 |\n",
       "| 1 | 1 | 0 |\n",
       "| 0 | 0 | 1 |\n",
       "| 1 | 1 | 2 |\n",
       "\n"
      ],
      "text/plain": [
       "  context severity Resp_Party\n",
       "1 1       1        1         \n",
       "2 1       1        0         \n",
       "3 0       0        1         \n",
       "4 1       1        2         "
      ]
     },
     "metadata": {},
     "output_type": "display_data"
    }
   ],
   "source": [
    "# Cluster 3 contents\n",
    "nrow(class3)\n",
    "distinct(class3[24:26])"
   ]
  },
  {
   "cell_type": "code",
   "execution_count": 162,
   "metadata": {
    "scrolled": true
   },
   "outputs": [
    {
     "data": {
      "text/html": [
       "<table>\n",
       "<thead><tr><th scope=col>context</th><th scope=col>severity</th><th scope=col>Resp_Party</th><th scope=col>n</th></tr></thead>\n",
       "<tbody>\n",
       "\t<tr><td>0   </td><td>0   </td><td>0   </td><td>2220</td></tr>\n",
       "\t<tr><td>0   </td><td>0   </td><td>1   </td><td> 857</td></tr>\n",
       "\t<tr><td>0   </td><td>0   </td><td>2   </td><td> 260</td></tr>\n",
       "\t<tr><td>0   </td><td>1   </td><td>0   </td><td> 236</td></tr>\n",
       "\t<tr><td>0   </td><td>1   </td><td>1   </td><td>  56</td></tr>\n",
       "\t<tr><td>0   </td><td>1   </td><td>2   </td><td>   3</td></tr>\n",
       "\t<tr><td>1   </td><td>1   </td><td>1   </td><td> 224</td></tr>\n",
       "</tbody>\n",
       "</table>\n"
      ],
      "text/latex": [
       "\\begin{tabular}{r|llll}\n",
       " context & severity & Resp\\_Party & n\\\\\n",
       "\\hline\n",
       "\t 0    & 0    & 0    & 2220\\\\\n",
       "\t 0    & 0    & 1    &  857\\\\\n",
       "\t 0    & 0    & 2    &  260\\\\\n",
       "\t 0    & 1    & 0    &  236\\\\\n",
       "\t 0    & 1    & 1    &   56\\\\\n",
       "\t 0    & 1    & 2    &    3\\\\\n",
       "\t 1    & 1    & 1    &  224\\\\\n",
       "\\end{tabular}\n"
      ],
      "text/markdown": [
       "\n",
       "| context | severity | Resp_Party | n |\n",
       "|---|---|---|---|\n",
       "| 0    | 0    | 0    | 2220 |\n",
       "| 0    | 0    | 1    |  857 |\n",
       "| 0    | 0    | 2    |  260 |\n",
       "| 0    | 1    | 0    |  236 |\n",
       "| 0    | 1    | 1    |   56 |\n",
       "| 0    | 1    | 2    |    3 |\n",
       "| 1    | 1    | 1    |  224 |\n",
       "\n"
      ],
      "text/plain": [
       "  context severity Resp_Party n   \n",
       "1 0       0        0          2220\n",
       "2 0       0        1           857\n",
       "3 0       0        2           260\n",
       "4 0       1        0           236\n",
       "5 0       1        1            56\n",
       "6 0       1        2             3\n",
       "7 1       1        1           224"
      ]
     },
     "metadata": {},
     "output_type": "display_data"
    }
   ],
   "source": [
    "# Cluster 1 demographic breakdown\n",
    "class1 %>% group_by(context, severity, Resp_Party) %>% tally()"
   ]
  },
  {
   "cell_type": "code",
   "execution_count": 163,
   "metadata": {},
   "outputs": [
    {
     "data": {
      "text/html": [
       "<table>\n",
       "<thead><tr><th scope=col>context</th><th scope=col>severity</th><th scope=col>Resp_Party</th><th scope=col>n</th></tr></thead>\n",
       "<tbody>\n",
       "\t<tr><td>0   </td><td>1   </td><td>0   </td><td>2164</td></tr>\n",
       "\t<tr><td>0   </td><td>1   </td><td>1   </td><td>1064</td></tr>\n",
       "\t<tr><td>0   </td><td>1   </td><td>2   </td><td> 417</td></tr>\n",
       "\t<tr><td>1   </td><td>0   </td><td>0   </td><td>2140</td></tr>\n",
       "\t<tr><td>1   </td><td>0   </td><td>1   </td><td>1388</td></tr>\n",
       "\t<tr><td>1   </td><td>0   </td><td>2   </td><td> 320</td></tr>\n",
       "\t<tr><td>1   </td><td>1   </td><td>2   </td><td> 358</td></tr>\n",
       "</tbody>\n",
       "</table>\n"
      ],
      "text/latex": [
       "\\begin{tabular}{r|llll}\n",
       " context & severity & Resp\\_Party & n\\\\\n",
       "\\hline\n",
       "\t 0    & 1    & 0    & 2164\\\\\n",
       "\t 0    & 1    & 1    & 1064\\\\\n",
       "\t 0    & 1    & 2    &  417\\\\\n",
       "\t 1    & 0    & 0    & 2140\\\\\n",
       "\t 1    & 0    & 1    & 1388\\\\\n",
       "\t 1    & 0    & 2    &  320\\\\\n",
       "\t 1    & 1    & 2    &  358\\\\\n",
       "\\end{tabular}\n"
      ],
      "text/markdown": [
       "\n",
       "| context | severity | Resp_Party | n |\n",
       "|---|---|---|---|\n",
       "| 0    | 1    | 0    | 2164 |\n",
       "| 0    | 1    | 1    | 1064 |\n",
       "| 0    | 1    | 2    |  417 |\n",
       "| 1    | 0    | 0    | 2140 |\n",
       "| 1    | 0    | 1    | 1388 |\n",
       "| 1    | 0    | 2    |  320 |\n",
       "| 1    | 1    | 2    |  358 |\n",
       "\n"
      ],
      "text/plain": [
       "  context severity Resp_Party n   \n",
       "1 0       1        0          2164\n",
       "2 0       1        1          1064\n",
       "3 0       1        2           417\n",
       "4 1       0        0          2140\n",
       "5 1       0        1          1388\n",
       "6 1       0        2           320\n",
       "7 1       1        2           358"
      ]
     },
     "metadata": {},
     "output_type": "display_data"
    }
   ],
   "source": [
    "# Cluster 2 demographic breakdown\n",
    "class2 %>% group_by(context, severity, Resp_Party) %>% tally()"
   ]
  },
  {
   "cell_type": "code",
   "execution_count": 16,
   "metadata": {},
   "outputs": [
    {
     "data": {
      "text/html": [
       "<table>\n",
       "<thead><tr><th scope=col>context</th><th scope=col>severity</th><th scope=col>Resp_Party</th><th scope=col>n</th></tr></thead>\n",
       "<tbody>\n",
       "\t<tr><td>1   </td><td>0   </td><td>0   </td><td> 205</td></tr>\n",
       "\t<tr><td>1   </td><td>0   </td><td>1   </td><td>1388</td></tr>\n",
       "\t<tr><td>1   </td><td>1   </td><td>2   </td><td> 422</td></tr>\n",
       "</tbody>\n",
       "</table>\n"
      ],
      "text/latex": [
       "\\begin{tabular}{r|llll}\n",
       " context & severity & Resp\\_Party & n\\\\\n",
       "\\hline\n",
       "\t 1    & 0    & 0    &  205\\\\\n",
       "\t 1    & 0    & 1    & 1388\\\\\n",
       "\t 1    & 1    & 2    &  422\\\\\n",
       "\\end{tabular}\n"
      ],
      "text/markdown": [
       "\n",
       "| context | severity | Resp_Party | n |\n",
       "|---|---|---|---|\n",
       "| 1    | 0    | 0    |  205 |\n",
       "| 1    | 0    | 1    | 1388 |\n",
       "| 1    | 1    | 2    |  422 |\n",
       "\n"
      ],
      "text/plain": [
       "  context severity Resp_Party n   \n",
       "1 1       0        0           205\n",
       "2 1       0        1          1388\n",
       "3 1       1        2           422"
      ]
     },
     "metadata": {},
     "output_type": "display_data"
    }
   ],
   "source": [
    "# Cluster 3 demographic breakdown\n",
    "class3 %>% group_by(context, severity, Resp_Party) %>% tally()"
   ]
  },
  {
   "cell_type": "code",
   "execution_count": 64,
   "metadata": {},
   "outputs": [
    {
     "data": {
      "text/html": [
       "<table>\n",
       "<thead><tr><th scope=col>context</th><th scope=col>severity</th><th scope=col>Resp_Party</th><th scope=col>classcond_prb1</th><th scope=col>classcond_prb2</th><th scope=col>classcond_prb3</th><th scope=col>classcond_prb4</th><th scope=col>comb</th></tr></thead>\n",
       "<tbody>\n",
       "\t<tr><td>0           </td><td>0           </td><td>0           </td><td>9.026662e-01</td><td>0.09716888  </td><td>1.186634e-05</td><td>1.531028e-04</td><td>000         </td></tr>\n",
       "\t<tr><td>0           </td><td>0           </td><td>1           </td><td>3.884359e-01</td><td>0.15106119  </td><td>2.037066e-03</td><td>4.584659e-01</td><td>001         </td></tr>\n",
       "\t<tr><td>0           </td><td>0           </td><td>2           </td><td>8.619905e-01</td><td>0.04203297  </td><td>8.180104e-02</td><td>1.417550e-02</td><td>002         </td></tr>\n",
       "\t<tr><td>0           </td><td>1           </td><td>0           </td><td>1.910361e-01</td><td>0.78195160  </td><td>9.374488e-06</td><td>2.700297e-02</td><td>010         </td></tr>\n",
       "\t<tr><td>0           </td><td>1           </td><td>1           </td><td>1.528489e-01</td><td>0.79711181  </td><td>4.269979e-05</td><td>4.999657e-02</td><td>011         </td></tr>\n",
       "\t<tr><td>0           </td><td>1           </td><td>2           </td><td>9.871753e-02</td><td>0.90116723  </td><td>1.151457e-04</td><td>8.972554e-08</td><td>012         </td></tr>\n",
       "\t<tr><td>1           </td><td>0           </td><td>0           </td><td>4.388350e-02</td><td>0.59545212  </td><td>3.422809e-01</td><td>1.838348e-02</td><td>100         </td></tr>\n",
       "\t<tr><td>1           </td><td>0           </td><td>1           </td><td>5.093111e-02</td><td>0.12151850  </td><td>6.643359e-01</td><td>1.632145e-01</td><td>101         </td></tr>\n",
       "\t<tr><td>1           </td><td>0           </td><td>2           </td><td>1.962285e-11</td><td>0.80813759  </td><td>3.119577e-04</td><td>1.915505e-01</td><td>102         </td></tr>\n",
       "\t<tr><td>1           </td><td>1           </td><td>0           </td><td>1.900096e-02</td><td>0.02600073  </td><td>9.807113e-05</td><td>9.549002e-01</td><td>110         </td></tr>\n",
       "\t<tr><td>1           </td><td>1           </td><td>1           </td><td>3.219257e-01</td><td>0.21867698  </td><td>3.201357e-03</td><td>4.561959e-01</td><td>111         </td></tr>\n",
       "\t<tr><td>1           </td><td>1           </td><td>2           </td><td>1.844980e-01</td><td>0.02021428  </td><td>5.701042e-01</td><td>2.251836e-01</td><td>112         </td></tr>\n",
       "</tbody>\n",
       "</table>\n"
      ],
      "text/latex": [
       "\\begin{tabular}{r|llllllll}\n",
       " context & severity & Resp\\_Party & classcond\\_prb1 & classcond\\_prb2 & classcond\\_prb3 & classcond\\_prb4 & comb\\\\\n",
       "\\hline\n",
       "\t 0            & 0            & 0            & 9.026662e-01 & 0.09716888   & 1.186634e-05 & 1.531028e-04 & 000         \\\\\n",
       "\t 0            & 0            & 1            & 3.884359e-01 & 0.15106119   & 2.037066e-03 & 4.584659e-01 & 001         \\\\\n",
       "\t 0            & 0            & 2            & 8.619905e-01 & 0.04203297   & 8.180104e-02 & 1.417550e-02 & 002         \\\\\n",
       "\t 0            & 1            & 0            & 1.910361e-01 & 0.78195160   & 9.374488e-06 & 2.700297e-02 & 010         \\\\\n",
       "\t 0            & 1            & 1            & 1.528489e-01 & 0.79711181   & 4.269979e-05 & 4.999657e-02 & 011         \\\\\n",
       "\t 0            & 1            & 2            & 9.871753e-02 & 0.90116723   & 1.151457e-04 & 8.972554e-08 & 012         \\\\\n",
       "\t 1            & 0            & 0            & 4.388350e-02 & 0.59545212   & 3.422809e-01 & 1.838348e-02 & 100         \\\\\n",
       "\t 1            & 0            & 1            & 5.093111e-02 & 0.12151850   & 6.643359e-01 & 1.632145e-01 & 101         \\\\\n",
       "\t 1            & 0            & 2            & 1.962285e-11 & 0.80813759   & 3.119577e-04 & 1.915505e-01 & 102         \\\\\n",
       "\t 1            & 1            & 0            & 1.900096e-02 & 0.02600073   & 9.807113e-05 & 9.549002e-01 & 110         \\\\\n",
       "\t 1            & 1            & 1            & 3.219257e-01 & 0.21867698   & 3.201357e-03 & 4.561959e-01 & 111         \\\\\n",
       "\t 1            & 1            & 2            & 1.844980e-01 & 0.02021428   & 5.701042e-01 & 2.251836e-01 & 112         \\\\\n",
       "\\end{tabular}\n"
      ],
      "text/markdown": [
       "\n",
       "| context | severity | Resp_Party | classcond_prb1 | classcond_prb2 | classcond_prb3 | classcond_prb4 | comb |\n",
       "|---|---|---|---|---|---|---|---|\n",
       "| 0            | 0            | 0            | 9.026662e-01 | 0.09716888   | 1.186634e-05 | 1.531028e-04 | 000          |\n",
       "| 0            | 0            | 1            | 3.884359e-01 | 0.15106119   | 2.037066e-03 | 4.584659e-01 | 001          |\n",
       "| 0            | 0            | 2            | 8.619905e-01 | 0.04203297   | 8.180104e-02 | 1.417550e-02 | 002          |\n",
       "| 0            | 1            | 0            | 1.910361e-01 | 0.78195160   | 9.374488e-06 | 2.700297e-02 | 010          |\n",
       "| 0            | 1            | 1            | 1.528489e-01 | 0.79711181   | 4.269979e-05 | 4.999657e-02 | 011          |\n",
       "| 0            | 1            | 2            | 9.871753e-02 | 0.90116723   | 1.151457e-04 | 8.972554e-08 | 012          |\n",
       "| 1            | 0            | 0            | 4.388350e-02 | 0.59545212   | 3.422809e-01 | 1.838348e-02 | 100          |\n",
       "| 1            | 0            | 1            | 5.093111e-02 | 0.12151850   | 6.643359e-01 | 1.632145e-01 | 101          |\n",
       "| 1            | 0            | 2            | 1.962285e-11 | 0.80813759   | 3.119577e-04 | 1.915505e-01 | 102          |\n",
       "| 1            | 1            | 0            | 1.900096e-02 | 0.02600073   | 9.807113e-05 | 9.549002e-01 | 110          |\n",
       "| 1            | 1            | 1            | 3.219257e-01 | 0.21867698   | 3.201357e-03 | 4.561959e-01 | 111          |\n",
       "| 1            | 1            | 2            | 1.844980e-01 | 0.02021428   | 5.701042e-01 | 2.251836e-01 | 112          |\n",
       "\n"
      ],
      "text/plain": [
       "   context severity Resp_Party classcond_prb1 classcond_prb2 classcond_prb3\n",
       "1  0       0        0          9.026662e-01   0.09716888     1.186634e-05  \n",
       "2  0       0        1          3.884359e-01   0.15106119     2.037066e-03  \n",
       "3  0       0        2          8.619905e-01   0.04203297     8.180104e-02  \n",
       "4  0       1        0          1.910361e-01   0.78195160     9.374488e-06  \n",
       "5  0       1        1          1.528489e-01   0.79711181     4.269979e-05  \n",
       "6  0       1        2          9.871753e-02   0.90116723     1.151457e-04  \n",
       "7  1       0        0          4.388350e-02   0.59545212     3.422809e-01  \n",
       "8  1       0        1          5.093111e-02   0.12151850     6.643359e-01  \n",
       "9  1       0        2          1.962285e-11   0.80813759     3.119577e-04  \n",
       "10 1       1        0          1.900096e-02   0.02600073     9.807113e-05  \n",
       "11 1       1        1          3.219257e-01   0.21867698     3.201357e-03  \n",
       "12 1       1        2          1.844980e-01   0.02021428     5.701042e-01  \n",
       "   classcond_prb4 comb\n",
       "1  1.531028e-04   000 \n",
       "2  4.584659e-01   001 \n",
       "3  1.417550e-02   002 \n",
       "4  2.700297e-02   010 \n",
       "5  4.999657e-02   011 \n",
       "6  8.972554e-08   012 \n",
       "7  1.838348e-02   100 \n",
       "8  1.632145e-01   101 \n",
       "9  1.915505e-01   102 \n",
       "10 9.549002e-01   110 \n",
       "11 4.561959e-01   111 \n",
       "12 2.251836e-01   112 "
      ]
     },
     "metadata": {},
     "output_type": "display_data"
    }
   ],
   "source": [
    "# The unconditional class probabilities of each type of person\n",
    "x"
   ]
  }
 ],
 "metadata": {
  "kernelspec": {
   "display_name": "R",
   "language": "R",
   "name": "ir"
  },
  "language_info": {
   "codemirror_mode": "r",
   "file_extension": ".r",
   "mimetype": "text/x-r-source",
   "name": "R",
   "pygments_lexer": "r",
   "version": "3.6.1"
  }
 },
 "nbformat": 4,
 "nbformat_minor": 5
}
